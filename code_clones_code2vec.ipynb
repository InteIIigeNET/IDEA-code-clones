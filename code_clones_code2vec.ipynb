{
  "nbformat": 4,
  "nbformat_minor": 0,
  "metadata": {
    "colab": {
      "name": "code-clones-code2vec.ipynb",
      "version": "0.3.2",
      "provenance": [],
      "collapsed_sections": [],
      "include_colab_link": true
    },
    "kernelspec": {
      "name": "python3",
      "display_name": "Python 3"
    }
  },
  "cells": [
    {
      "cell_type": "markdown",
      "metadata": {
        "id": "view-in-github",
        "colab_type": "text"
      },
      "source": [
        "<a href=\"https://colab.research.google.com/github/MaxVortman/IDEA-code-clones/blob/master/code_clones_code2vec.ipynb\" target=\"_parent\"><img src=\"https://colab.research.google.com/assets/colab-badge.svg\" alt=\"Open In Colab\"/></a>"
      ]
    },
    {
      "cell_type": "code",
      "metadata": {
        "id": "Xm7j2CTR5pIS",
        "colab_type": "code",
        "outputId": "dea31c87-95ec-423b-8321-25dee546249f",
        "colab": {
          "base_uri": "https://localhost:8080/",
          "height": 122
        }
      },
      "source": [
        "from google.colab import drive\n",
        "drive.mount('/content/gdrive')"
      ],
      "execution_count": 0,
      "outputs": [
        {
          "output_type": "stream",
          "text": [
            "Go to this URL in a browser: https://accounts.google.com/o/oauth2/auth?client_id=947318989803-6bn6qk8qdgf4n4g3pfee6491hc0brc4i.apps.googleusercontent.com&redirect_uri=urn%3Aietf%3Awg%3Aoauth%3A2.0%3Aoob&scope=email%20https%3A%2F%2Fwww.googleapis.com%2Fauth%2Fdocs.test%20https%3A%2F%2Fwww.googleapis.com%2Fauth%2Fdrive%20https%3A%2F%2Fwww.googleapis.com%2Fauth%2Fdrive.photos.readonly%20https%3A%2F%2Fwww.googleapis.com%2Fauth%2Fpeopleapi.readonly&response_type=code\n",
            "\n",
            "Enter your authorization code:\n",
            "··········\n",
            "Mounted at /content/gdrive\n"
          ],
          "name": "stdout"
        }
      ]
    },
    {
      "cell_type": "code",
      "metadata": {
        "id": "8tA6IosBCPRp",
        "colab_type": "code",
        "outputId": "d46e157d-4b40-4566-8e75-4fb235de7020",
        "colab": {
          "base_uri": "https://localhost:8080/",
          "height": 34
        }
      },
      "source": [
        "%cd /content/gdrive/My\\ Drive/code-clones"
      ],
      "execution_count": 0,
      "outputs": [
        {
          "output_type": "stream",
          "text": [
            "/content/gdrive/My Drive/code-clones\n"
          ],
          "name": "stdout"
        }
      ]
    },
    {
      "cell_type": "code",
      "metadata": {
        "id": "eABxpXxhCXo5",
        "colab_type": "code",
        "colab": {}
      },
      "source": [
        "import xmlextractor\n",
        "import os\n",
        "from tqdm import tqdm"
      ],
      "execution_count": 0,
      "outputs": []
    },
    {
      "cell_type": "code",
      "metadata": {
        "id": "kst1uv2z3_l-",
        "colab_type": "code",
        "outputId": "a1d38c3e-ce10-4654-d55e-4abeb2583d66",
        "colab": {
          "base_uri": "https://localhost:8080/",
          "height": 68
        }
      },
      "source": [
        "DATA_DIR = \"data\"\n",
        "XML = \"duplicates_marked.xml\"\n",
        "PROJECT = \"RxJava-2.x\"\n",
        "\n",
        "projPath = os.path.join(DATA_DIR, PROJECT)\n",
        "xmlPath = os.path.join(projPath, XML)\n",
        "\n",
        "duplicates = xmlextractor.parseXml(xmlPath, projPath)\n",
        "\n",
        "print(len(duplicates))\n",
        "print(len(list(filter(lambda d: d.exp == 0, duplicates))))\n",
        "print(len(list(filter(lambda d: d.exp == 1, duplicates))))"
      ],
      "execution_count": 0,
      "outputs": [
        {
          "output_type": "stream",
          "text": [
            "5077\n",
            "3352\n",
            "1725\n"
          ],
          "name": "stdout"
        }
      ]
    },
    {
      "cell_type": "code",
      "metadata": {
        "id": "VkbhqDiPTtfc",
        "colab_type": "code",
        "outputId": "883082ab-9668-4212-c830-63ec9459ca55",
        "colab": {
          "base_uri": "https://localhost:8080/",
          "height": 34
        }
      },
      "source": [
        "%cd /content"
      ],
      "execution_count": 0,
      "outputs": [
        {
          "output_type": "stream",
          "text": [
            "/content\n"
          ],
          "name": "stdout"
        }
      ]
    },
    {
      "cell_type": "code",
      "metadata": {
        "id": "SQ9APvr4lnPs",
        "colab_type": "code",
        "outputId": "0eea1638-8958-4574-acc5-a10df4e95e24",
        "colab": {
          "base_uri": "https://localhost:8080/",
          "height": 136
        }
      },
      "source": [
        "!git clone https://github.com/tech-srl/code2vec"
      ],
      "execution_count": 0,
      "outputs": [
        {
          "output_type": "stream",
          "text": [
            "Cloning into 'code2vec'...\n",
            "remote: Enumerating objects: 54, done.\u001b[K\n",
            "remote: Counting objects: 100% (54/54), done.\u001b[K\n",
            "remote: Compressing objects: 100% (38/38), done.\u001b[K\n",
            "remote: Total 202 (delta 18), reused 33 (delta 13), pack-reused 148\u001b[K\n",
            "Receiving objects: 100% (202/202), 6.31 MiB | 28.33 MiB/s, done.\n",
            "Resolving deltas: 100% (58/58), done.\n"
          ],
          "name": "stdout"
        }
      ]
    },
    {
      "cell_type": "code",
      "metadata": {
        "id": "a6fypz9clsEH",
        "colab_type": "code",
        "outputId": "4865f59e-57ed-4a91-867f-8b0c0ac702c7",
        "colab": {
          "base_uri": "https://localhost:8080/",
          "height": 204
        }
      },
      "source": [
        "!wget https://s3.amazonaws.com/code2vec/model/java14m_model.tar.gz"
      ],
      "execution_count": 0,
      "outputs": [
        {
          "output_type": "stream",
          "text": [
            "--2019-03-04 13:19:42--  https://s3.amazonaws.com/code2vec/model/java14m_model.tar.gz\n",
            "Resolving s3.amazonaws.com (s3.amazonaws.com)... 52.216.164.85\n",
            "Connecting to s3.amazonaws.com (s3.amazonaws.com)|52.216.164.85|:443... connected.\n",
            "HTTP request sent, awaiting response... 200 OK\n",
            "Length: 1440921240 (1.3G) [application/x-tar]\n",
            "Saving to: ‘java14m_model.tar.gz’\n",
            "\n",
            "java14m_model.tar.g 100%[===================>]   1.34G  86.9MB/s    in 17s     \n",
            "\n",
            "2019-03-04 13:19:59 (80.9 MB/s) - ‘java14m_model.tar.gz’ saved [1440921240/1440921240]\n",
            "\n"
          ],
          "name": "stdout"
        }
      ]
    },
    {
      "cell_type": "code",
      "metadata": {
        "id": "5EUT_uTDlsrD",
        "colab_type": "code",
        "outputId": "c3b4e569-76ae-4a3b-e6ef-07b5dc8f2f9d",
        "colab": {
          "base_uri": "https://localhost:8080/",
          "height": 85
        }
      },
      "source": [
        "!tar -xvzf java14m_model.tar.gz"
      ],
      "execution_count": 0,
      "outputs": [
        {
          "output_type": "stream",
          "text": [
            "models/java14_model/saved_model_iter8.release.data-00000-of-00001\n",
            "models/java14_model/saved_model_iter8.release.index\n",
            "models/java14_model/saved_model_iter8.release.meta\n",
            "models/java14_model/dictionaries.bin\n"
          ],
          "name": "stdout"
        }
      ]
    },
    {
      "cell_type": "code",
      "metadata": {
        "id": "NQO0Pzm8miWf",
        "colab_type": "code",
        "colab": {}
      },
      "source": [
        "!mv models/ code2vec/"
      ],
      "execution_count": 0,
      "outputs": []
    },
    {
      "cell_type": "code",
      "metadata": {
        "id": "6O266bA74zq3",
        "colab_type": "code",
        "outputId": "f342f78d-a317-4187-d2ef-ba9111ad84b5",
        "colab": {
          "base_uri": "https://localhost:8080/",
          "height": 34
        }
      },
      "source": [
        "%cd code2vec/"
      ],
      "execution_count": 0,
      "outputs": [
        {
          "output_type": "stream",
          "text": [
            "/content/code2vec\n"
          ],
          "name": "stdout"
        }
      ]
    },
    {
      "cell_type": "code",
      "metadata": {
        "id": "ZHyFMPW-fwwZ",
        "colab_type": "code",
        "colab": {}
      },
      "source": [
        "#duplicates = duplicates[1189:] #1190 alredy saved"
      ],
      "execution_count": 0,
      "outputs": []
    },
    {
      "cell_type": "code",
      "metadata": {
        "id": "JDrMfi-hf32H",
        "colab_type": "code",
        "outputId": "a120f068-5970-4ca3-885f-98393cdea51d",
        "colab": {
          "base_uri": "https://localhost:8080/",
          "height": 34
        }
      },
      "source": [
        "len(duplicates)"
      ],
      "execution_count": 0,
      "outputs": [
        {
          "output_type": "execute_result",
          "data": {
            "text/plain": [
              "5077"
            ]
          },
          "metadata": {
            "tags": []
          },
          "execution_count": 12
        }
      ]
    },
    {
      "cell_type": "code",
      "metadata": {
        "id": "HT1JQCIZmvR_",
        "colab_type": "code",
        "outputId": "93501301-9511-4311-8c07-39dc548ec392",
        "colab": {
          "base_uri": "https://localhost:8080/",
          "height": 34
        }
      },
      "source": [
        "import pexpect\n",
        "import sys\n",
        "import time\n",
        "import numpy as np\n",
        "\n",
        "def expectCodeVectors(child, acc):\n",
        "  index1 = child.expect([\"Code vector:\", \"Modify the file: \\\"Input.java\\\" and press any key when ready, or \\\"q\\\" / \\\"quit\\\" / \\\"exit\\\" to exit\"])\n",
        "  if index1 == 0:\n",
        "    index2 = child.expect([\"Modify the file: \\\"Input.java\\\" and press any key when ready, or \\\"q\\\" / \\\"quit\\\" / \\\"exit\\\" to exit\", \"Original name:\"])\n",
        "    acc.append(child.before)\n",
        "    if index2 == 0:\n",
        "      return acc\n",
        "    elif index2 == 1:\n",
        "      return expectCodeVectors(child, acc)\n",
        "  elif index1 == 1:\n",
        "    return []\n",
        "\n",
        "def list2vec(l):\n",
        "  result_acc = []\n",
        "  for code_vector in acc:\n",
        "    result_code_vector = []\n",
        "    update_code_vecor = str(code_vector).replace(\"\\\\r\\\\n\", \"\").replace(\"'\", \"\")[1:].split()\n",
        "    for s in update_code_vecor:\n",
        "      result_code_vector.append(float(s))\n",
        "    result_acc.append(result_code_vector)\n",
        "  return result_acc\n",
        "\n",
        "child = pexpect.spawn ('python3 code2vec.py --load models/java14_model/saved_model_iter8.release --export_code_vectors --predict', timeout=None)\n",
        "\n",
        "code_vectors = []\n",
        "child.expect(\"Modify the file: \\\"Input.java\\\" and press any key when ready, or \\\"q\\\" / \\\"quit\\\" / \\\"exit\\\" to exit\")\n",
        "\n",
        "for duplicate in tqdm(duplicates, ascii=True):\n",
        "  duplicate_code_vectors = []\n",
        "  for fragment in duplicate.fragments:\n",
        "    with open(\"Input.java\", 'w') as f:\n",
        "      f.write(fragment)\n",
        "    child.sendline(\"r\")\n",
        "    acc = expectCodeVectors(child, [])\n",
        "    if acc == []:\n",
        "      continue\n",
        "    acc = list2vec(acc)\n",
        "    duplicate_code_vectors.append(np.mean(acc, axis=0).tolist())\n",
        "  code_vectors.append({'exp': duplicate.exp, 'vectors': duplicate_code_vectors})\n",
        "\n",
        "child.sendline(\"q\")\n",
        "child.expect(pexpect.EOF)\n",
        "child.close()"
      ],
      "execution_count": 0,
      "outputs": [
        {
          "output_type": "stream",
          "text": [
            "100%|##########| 5077/5077 [3:21:41<00:00,  2.17s/it]\n"
          ],
          "name": "stderr"
        }
      ]
    },
    {
      "cell_type": "code",
      "metadata": {
        "id": "Z-_Dc42HX5Ar",
        "colab_type": "code",
        "outputId": "fb5d5367-3ad9-4c26-ca45-be26f6ae52f5",
        "colab": {
          "base_uri": "https://localhost:8080/",
          "height": 34
        }
      },
      "source": [
        "len(code_vectors)"
      ],
      "execution_count": 0,
      "outputs": [
        {
          "output_type": "execute_result",
          "data": {
            "text/plain": [
              "5077"
            ]
          },
          "metadata": {
            "tags": []
          },
          "execution_count": 16
        }
      ]
    },
    {
      "cell_type": "code",
      "metadata": {
        "id": "VwhGoYYWUvtm",
        "colab_type": "code",
        "colab": {}
      },
      "source": [
        "import json\n",
        "\n",
        "JSON_FILE = '/content/gdrive/My Drive/code-clones/csv/rxjava_code2vec_fragments_vectors.json'\n",
        "\n",
        "with open(JSON_FILE, 'w') as outfile:\n",
        "    json.dump(code_vectors, outfile)"
      ],
      "execution_count": 0,
      "outputs": []
    },
    {
      "cell_type": "code",
      "metadata": {
        "id": "LbqOXKSdisuu",
        "colab_type": "code",
        "colab": {}
      },
      "source": [
        ""
      ],
      "execution_count": 0,
      "outputs": []
    }
  ]
}