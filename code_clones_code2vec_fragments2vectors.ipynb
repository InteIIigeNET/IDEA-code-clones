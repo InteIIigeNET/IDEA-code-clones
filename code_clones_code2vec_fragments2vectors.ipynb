{
  "nbformat": 4,
  "nbformat_minor": 0,
  "metadata": {
    "colab": {
      "name": "code-clones-code2vec-fragments2vectors.ipynb",
      "version": "0.3.2",
      "provenance": [],
      "collapsed_sections": [],
      "include_colab_link": true
    },
    "kernelspec": {
      "name": "python3",
      "display_name": "Python 3"
    }
  },
  "cells": [
    {
      "cell_type": "markdown",
      "metadata": {
        "id": "view-in-github",
        "colab_type": "text"
      },
      "source": [
        "<a href=\"https://colab.research.google.com/github/MaxVortman/IDEA-code-clones/blob/master/code_clones_code2vec_fragments2vectors.ipynb\" target=\"_parent\"><img src=\"https://colab.research.google.com/assets/colab-badge.svg\" alt=\"Open In Colab\"/></a>"
      ]
    },
    {
      "cell_type": "code",
      "metadata": {
        "id": "2pcVObarQ9Tx",
        "colab_type": "code",
        "outputId": "f67d8a9a-1334-4e6a-d4cd-68c60ee9928f",
        "colab": {
          "base_uri": "https://localhost:8080/",
          "height": 34
        }
      },
      "source": [
        "from google.colab import drive\n",
        "drive.mount('/content/gdrive')"
      ],
      "execution_count": 0,
      "outputs": [
        {
          "output_type": "stream",
          "text": [
            "Drive already mounted at /content/gdrive; to attempt to forcibly remount, call drive.mount(\"/content/gdrive\", force_remount=True).\n"
          ],
          "name": "stdout"
        }
      ]
    },
    {
      "cell_type": "code",
      "metadata": {
        "id": "OTreVLzARMTi",
        "colab_type": "code",
        "colab": {}
      },
      "source": [
        "import json\n",
        "import os\n",
        "\n",
        "CSV_DIR = '/content/gdrive/My Drive/code-clones/csv'\n",
        "JSON_FILE = 'rxjava_code2vec_fragments_vectors.json'\n",
        "\n",
        "json_path = os.path.join(CSV_DIR, JSON_FILE)\n",
        "\n",
        "with open(json_path) as f:\n",
        "    data = json.load(f)"
      ],
      "execution_count": 0,
      "outputs": []
    },
    {
      "cell_type": "code",
      "metadata": {
        "id": "gX7WOLGgRZf1",
        "colab_type": "code",
        "colab": {}
      },
      "source": [
        "data_not_none = []\n",
        "\n",
        "for i in data:\n",
        "  if i['vectors'] != []:\n",
        "    data_not_none.append(i)"
      ],
      "execution_count": 0,
      "outputs": []
    },
    {
      "cell_type": "code",
      "metadata": {
        "id": "5iqiON26Rxox",
        "colab_type": "code",
        "outputId": "4be02867-a401-4664-aaba-48c3d26c99a1",
        "colab": {
          "base_uri": "https://localhost:8080/",
          "height": 34
        }
      },
      "source": [
        "len(data_not_none)"
      ],
      "execution_count": 0,
      "outputs": [
        {
          "output_type": "execute_result",
          "data": {
            "text/plain": [
              "4357"
            ]
          },
          "metadata": {
            "tags": []
          },
          "execution_count": 43
        }
      ]
    },
    {
      "cell_type": "code",
      "metadata": {
        "id": "jfcaFglFR8fz",
        "colab_type": "code",
        "colab": {}
      },
      "source": [
        "import numpy as np\n",
        "\n",
        "average_fragments_data = []\n",
        "\n",
        "for i in data_not_none:\n",
        "  exp = [i['exp']]\n",
        "  exp.extend(np.mean(i['vectors'], axis=0).tolist())\n",
        "  average_fragments_data.append(exp)"
      ],
      "execution_count": 0,
      "outputs": []
    },
    {
      "cell_type": "code",
      "metadata": {
        "id": "97aIqTB3WFUt",
        "colab_type": "code",
        "colab": {}
      },
      "source": [
        "import pandas as pd\n",
        "\n",
        "df = pd.DataFrame(average_fragments_data)"
      ],
      "execution_count": 0,
      "outputs": []
    },
    {
      "cell_type": "code",
      "metadata": {
        "id": "b_rDeJnadKom",
        "colab_type": "code",
        "colab": {}
      },
      "source": [
        "cl = df.columns.tolist()\n",
        "cl[0] = 'exp'\n",
        "df.columns = cl"
      ],
      "execution_count": 0,
      "outputs": []
    },
    {
      "cell_type": "code",
      "metadata": {
        "id": "VXdvFbTCflTJ",
        "colab_type": "code",
        "outputId": "37b23352-dfe9-458c-8040-135d827f7194",
        "colab": {
          "base_uri": "https://localhost:8080/",
          "height": 233
        }
      },
      "source": [
        "df.head()"
      ],
      "execution_count": 0,
      "outputs": [
        {
          "output_type": "execute_result",
          "data": {
            "text/html": [
              "<div>\n",
              "<style scoped>\n",
              "    .dataframe tbody tr th:only-of-type {\n",
              "        vertical-align: middle;\n",
              "    }\n",
              "\n",
              "    .dataframe tbody tr th {\n",
              "        vertical-align: top;\n",
              "    }\n",
              "\n",
              "    .dataframe thead th {\n",
              "        text-align: right;\n",
              "    }\n",
              "</style>\n",
              "<table border=\"1\" class=\"dataframe\">\n",
              "  <thead>\n",
              "    <tr style=\"text-align: right;\">\n",
              "      <th></th>\n",
              "      <th>exp</th>\n",
              "      <th>1</th>\n",
              "      <th>2</th>\n",
              "      <th>3</th>\n",
              "      <th>4</th>\n",
              "      <th>5</th>\n",
              "      <th>6</th>\n",
              "      <th>7</th>\n",
              "      <th>8</th>\n",
              "      <th>9</th>\n",
              "      <th>...</th>\n",
              "      <th>375</th>\n",
              "      <th>376</th>\n",
              "      <th>377</th>\n",
              "      <th>378</th>\n",
              "      <th>379</th>\n",
              "      <th>380</th>\n",
              "      <th>381</th>\n",
              "      <th>382</th>\n",
              "      <th>383</th>\n",
              "      <th>384</th>\n",
              "    </tr>\n",
              "  </thead>\n",
              "  <tbody>\n",
              "    <tr>\n",
              "      <th>0</th>\n",
              "      <td>1</td>\n",
              "      <td>0.709941</td>\n",
              "      <td>0.960252</td>\n",
              "      <td>-0.641487</td>\n",
              "      <td>0.829643</td>\n",
              "      <td>0.836526</td>\n",
              "      <td>-0.560549</td>\n",
              "      <td>0.698071</td>\n",
              "      <td>-0.533311</td>\n",
              "      <td>-0.538633</td>\n",
              "      <td>...</td>\n",
              "      <td>0.310022</td>\n",
              "      <td>-0.086393</td>\n",
              "      <td>-0.815978</td>\n",
              "      <td>-0.515899</td>\n",
              "      <td>0.929083</td>\n",
              "      <td>-0.749266</td>\n",
              "      <td>0.980251</td>\n",
              "      <td>0.784046</td>\n",
              "      <td>0.345489</td>\n",
              "      <td>0.725996</td>\n",
              "    </tr>\n",
              "    <tr>\n",
              "      <th>1</th>\n",
              "      <td>0</td>\n",
              "      <td>0.495881</td>\n",
              "      <td>0.840636</td>\n",
              "      <td>-0.784212</td>\n",
              "      <td>0.757531</td>\n",
              "      <td>0.644386</td>\n",
              "      <td>-0.848754</td>\n",
              "      <td>0.709994</td>\n",
              "      <td>-0.757907</td>\n",
              "      <td>-0.657400</td>\n",
              "      <td>...</td>\n",
              "      <td>0.623069</td>\n",
              "      <td>0.348438</td>\n",
              "      <td>-0.810133</td>\n",
              "      <td>-0.869722</td>\n",
              "      <td>0.938905</td>\n",
              "      <td>-0.910680</td>\n",
              "      <td>0.917575</td>\n",
              "      <td>0.457564</td>\n",
              "      <td>0.587078</td>\n",
              "      <td>0.732963</td>\n",
              "    </tr>\n",
              "    <tr>\n",
              "      <th>2</th>\n",
              "      <td>0</td>\n",
              "      <td>0.234800</td>\n",
              "      <td>-0.240827</td>\n",
              "      <td>0.394347</td>\n",
              "      <td>-0.844005</td>\n",
              "      <td>-0.640530</td>\n",
              "      <td>-0.451294</td>\n",
              "      <td>-0.224822</td>\n",
              "      <td>-0.562846</td>\n",
              "      <td>-0.163856</td>\n",
              "      <td>...</td>\n",
              "      <td>-0.328678</td>\n",
              "      <td>0.318178</td>\n",
              "      <td>-0.742563</td>\n",
              "      <td>-0.347770</td>\n",
              "      <td>-0.843668</td>\n",
              "      <td>0.101982</td>\n",
              "      <td>-0.258889</td>\n",
              "      <td>0.036475</td>\n",
              "      <td>-0.625112</td>\n",
              "      <td>-0.515003</td>\n",
              "    </tr>\n",
              "    <tr>\n",
              "      <th>3</th>\n",
              "      <td>0</td>\n",
              "      <td>0.200438</td>\n",
              "      <td>0.415844</td>\n",
              "      <td>-0.961721</td>\n",
              "      <td>0.120293</td>\n",
              "      <td>-0.053595</td>\n",
              "      <td>-0.918098</td>\n",
              "      <td>0.694363</td>\n",
              "      <td>-0.836056</td>\n",
              "      <td>-0.940148</td>\n",
              "      <td>...</td>\n",
              "      <td>0.593882</td>\n",
              "      <td>0.134139</td>\n",
              "      <td>-0.949402</td>\n",
              "      <td>-0.947381</td>\n",
              "      <td>0.926744</td>\n",
              "      <td>-0.933132</td>\n",
              "      <td>0.948562</td>\n",
              "      <td>0.022441</td>\n",
              "      <td>0.659805</td>\n",
              "      <td>-0.158803</td>\n",
              "    </tr>\n",
              "    <tr>\n",
              "      <th>4</th>\n",
              "      <td>0</td>\n",
              "      <td>-0.292524</td>\n",
              "      <td>0.240078</td>\n",
              "      <td>-0.310450</td>\n",
              "      <td>-0.546236</td>\n",
              "      <td>-0.273371</td>\n",
              "      <td>-0.103001</td>\n",
              "      <td>-0.503561</td>\n",
              "      <td>-0.111206</td>\n",
              "      <td>-0.095939</td>\n",
              "      <td>...</td>\n",
              "      <td>-0.474232</td>\n",
              "      <td>-0.102023</td>\n",
              "      <td>-0.435715</td>\n",
              "      <td>0.095129</td>\n",
              "      <td>0.342444</td>\n",
              "      <td>0.156715</td>\n",
              "      <td>-0.288920</td>\n",
              "      <td>0.000760</td>\n",
              "      <td>0.299796</td>\n",
              "      <td>0.003383</td>\n",
              "    </tr>\n",
              "  </tbody>\n",
              "</table>\n",
              "<p>5 rows × 385 columns</p>\n",
              "</div>"
            ],
            "text/plain": [
              "   exp         1         2         3         4         5         6         7  \\\n",
              "0    1  0.709941  0.960252 -0.641487  0.829643  0.836526 -0.560549  0.698071   \n",
              "1    0  0.495881  0.840636 -0.784212  0.757531  0.644386 -0.848754  0.709994   \n",
              "2    0  0.234800 -0.240827  0.394347 -0.844005 -0.640530 -0.451294 -0.224822   \n",
              "3    0  0.200438  0.415844 -0.961721  0.120293 -0.053595 -0.918098  0.694363   \n",
              "4    0 -0.292524  0.240078 -0.310450 -0.546236 -0.273371 -0.103001 -0.503561   \n",
              "\n",
              "          8         9    ...          375       376       377       378  \\\n",
              "0 -0.533311 -0.538633    ...     0.310022 -0.086393 -0.815978 -0.515899   \n",
              "1 -0.757907 -0.657400    ...     0.623069  0.348438 -0.810133 -0.869722   \n",
              "2 -0.562846 -0.163856    ...    -0.328678  0.318178 -0.742563 -0.347770   \n",
              "3 -0.836056 -0.940148    ...     0.593882  0.134139 -0.949402 -0.947381   \n",
              "4 -0.111206 -0.095939    ...    -0.474232 -0.102023 -0.435715  0.095129   \n",
              "\n",
              "        379       380       381       382       383       384  \n",
              "0  0.929083 -0.749266  0.980251  0.784046  0.345489  0.725996  \n",
              "1  0.938905 -0.910680  0.917575  0.457564  0.587078  0.732963  \n",
              "2 -0.843668  0.101982 -0.258889  0.036475 -0.625112 -0.515003  \n",
              "3  0.926744 -0.933132  0.948562  0.022441  0.659805 -0.158803  \n",
              "4  0.342444  0.156715 -0.288920  0.000760  0.299796  0.003383  \n",
              "\n",
              "[5 rows x 385 columns]"
            ]
          },
          "metadata": {
            "tags": []
          },
          "execution_count": 64
        }
      ]
    },
    {
      "cell_type": "code",
      "metadata": {
        "id": "h22Q9ThgWVb8",
        "colab_type": "code",
        "colab": {}
      },
      "source": [
        "df.to_csv('/content/gdrive/My Drive/code-clones/csv/rxjava_code2vec_vectors.csv', index=False)"
      ],
      "execution_count": 0,
      "outputs": []
    },
    {
      "cell_type": "code",
      "metadata": {
        "id": "UCaS_G7uWfXk",
        "colab_type": "code",
        "colab": {}
      },
      "source": [
        ""
      ],
      "execution_count": 0,
      "outputs": []
    }
  ]
}