{
  "nbformat": 4,
  "nbformat_minor": 0,
  "metadata": {
    "colab": {
      "name": "code-clones-data-preprocessing.ipynb",
      "version": "0.3.2",
      "provenance": [],
      "include_colab_link": true
    },
    "kernelspec": {
      "name": "python3",
      "display_name": "Python 3"
    }
  },
  "cells": [
    {
      "cell_type": "markdown",
      "metadata": {
        "id": "view-in-github",
        "colab_type": "text"
      },
      "source": [
        "<a href=\"https://colab.research.google.com/github/MaxVortman/IDEA-code-clones/blob/master/code_clones_data_preprocessing.ipynb\" target=\"_parent\"><img src=\"https://colab.research.google.com/assets/colab-badge.svg\" alt=\"Open In Colab\"/></a>"
      ]
    },
    {
      "cell_type": "code",
      "metadata": {
        "id": "53poQ6r5xRf8",
        "colab_type": "code",
        "colab": {
          "base_uri": "https://localhost:8080/",
          "height": 34
        },
        "outputId": "bab2b047-a9a8-49e5-8627-453be0196d66"
      },
      "source": [
        "from google.colab import drive\n",
        "drive.mount('/content/gdrive')"
      ],
      "execution_count": 1,
      "outputs": [
        {
          "output_type": "stream",
          "text": [
            "Drive already mounted at /content/gdrive; to attempt to forcibly remount, call drive.mount(\"/content/gdrive\", force_remount=True).\n"
          ],
          "name": "stdout"
        }
      ]
    },
    {
      "cell_type": "code",
      "metadata": {
        "id": "NzLn-_DDxlVC",
        "colab_type": "code",
        "colab": {
          "base_uri": "https://localhost:8080/",
          "height": 34
        },
        "outputId": "10e1743a-9a35-4253-eaa8-b557655c46db"
      },
      "source": [
        "%cd /content/gdrive/My\\ Drive/code-clones"
      ],
      "execution_count": 2,
      "outputs": [
        {
          "output_type": "stream",
          "text": [
            "/content/gdrive/My Drive/code-clones\n"
          ],
          "name": "stdout"
        }
      ]
    },
    {
      "cell_type": "code",
      "metadata": {
        "id": "0x9f1slpxl50",
        "colab_type": "code",
        "colab": {}
      },
      "source": [
        "import xmlextractor\n",
        "import metrics\n",
        "import os\n",
        "import pandas as pd\n",
        "import numpy as np"
      ],
      "execution_count": 0,
      "outputs": []
    },
    {
      "cell_type": "code",
      "metadata": {
        "id": "gr7p_cQQxq-i",
        "colab_type": "code",
        "colab": {}
      },
      "source": [
        "duplicates = xmlextractor.parseXml(\"data/lwjgl-master/duplicates.xml\", \"data/lwjgl-master\")\n",
        "duplicates.extend(xmlextractor.parseXml(\"data/lwjgl3-master/duplicates.xml\", \"data/lwjgl3-master\"))\n",
        "duplicates.extend(xmlextractor.parseXml(\"data/spring-framework-master/duplicates_marked.xml\", \"data/spring-framework-master\"))\n",
        "duplicates.extend(xmlextractor.parseXml(\"data/jenkins-master/duplicates_marked.xml\", \"data/jenkins-master\"))\n",
        "duplicates.extend(xmlextractor.parseXml(\"data/RxJava-2.x/duplicates_marked.xml\", \"data/RxJava-2.x\"))"
      ],
      "execution_count": 0,
      "outputs": []
    },
    {
      "cell_type": "code",
      "metadata": {
        "id": "LHzQFcEPxtOB",
        "colab_type": "code",
        "colab": {
          "base_uri": "https://localhost:8080/",
          "height": 68
        },
        "outputId": "687e6918-6157-4ae1-d734-b1de8ab353e0"
      },
      "source": [
        "print(len(duplicates))\n",
        "print(len(list(filter(lambda d: d.exp == 0, duplicates))))\n",
        "print(len(list(filter(lambda d: d.exp == 1, duplicates))))"
      ],
      "execution_count": 5,
      "outputs": [
        {
          "output_type": "stream",
          "text": [
            "19990\n",
            "14560\n",
            "5430\n"
          ],
          "name": "stdout"
        }
      ]
    },
    {
      "cell_type": "code",
      "metadata": {
        "id": "mmAhbRi1yJoG",
        "colab_type": "code",
        "colab": {}
      },
      "source": [
        "import pickle\n",
        "f = open(\"csv/duplicates.pkl\",\"wb\")\n",
        "pickle.dump(duplicates, f)\n",
        "f.close()"
      ],
      "execution_count": 0,
      "outputs": []
    },
    {
      "cell_type": "code",
      "metadata": {
        "id": "DbFwlek4zsRw",
        "colab_type": "code",
        "colab": {}
      },
      "source": [
        ""
      ],
      "execution_count": 0,
      "outputs": []
    }
  ]
}