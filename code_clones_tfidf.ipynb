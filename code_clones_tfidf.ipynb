{
  "nbformat": 4,
  "nbformat_minor": 0,
  "metadata": {
    "colab": {
      "name": "code-clones-tfidf.ipynb",
      "version": "0.3.2",
      "provenance": [],
      "collapsed_sections": [],
      "include_colab_link": true
    },
    "kernelspec": {
      "name": "python3",
      "display_name": "Python 3"
    }
  },
  "cells": [
    {
      "cell_type": "markdown",
      "metadata": {
        "id": "view-in-github",
        "colab_type": "text"
      },
      "source": [
        "<a href=\"https://colab.research.google.com/github/MaxVortman/IDEA-code-clones/blob/master/code_clones_tfidf.ipynb\" target=\"_parent\"><img src=\"https://colab.research.google.com/assets/colab-badge.svg\" alt=\"Open In Colab\"/></a>"
      ]
    },
    {
      "cell_type": "code",
      "metadata": {
        "id": "ikpo1_tDxDsC",
        "colab_type": "code",
        "colab": {
          "base_uri": "https://localhost:8080/",
          "height": 34
        },
        "outputId": "d7ef1a51-d2db-4aab-d9ab-66ecca4de9d6"
      },
      "source": [
        "from google.colab import drive\n",
        "drive.mount('/content/gdrive')"
      ],
      "execution_count": 1,
      "outputs": [
        {
          "output_type": "stream",
          "text": [
            "Drive already mounted at /content/gdrive; to attempt to forcibly remount, call drive.mount(\"/content/gdrive\", force_remount=True).\n"
          ],
          "name": "stdout"
        }
      ]
    },
    {
      "cell_type": "code",
      "metadata": {
        "id": "5QtEAxO61R0R",
        "colab_type": "code",
        "colab": {
          "base_uri": "https://localhost:8080/",
          "height": 34
        },
        "outputId": "1eb2ff0f-35a9-4f40-8aed-0281f5935e34"
      },
      "source": [
        "%cd /content/gdrive/My\\ Drive/code-clones"
      ],
      "execution_count": 2,
      "outputs": [
        {
          "output_type": "stream",
          "text": [
            "/content/gdrive/My Drive/code-clones\n"
          ],
          "name": "stdout"
        }
      ]
    },
    {
      "cell_type": "code",
      "metadata": {
        "id": "cXRZQvDl1TZM",
        "colab_type": "code",
        "colab": {}
      },
      "source": [
        "import xmlextractor\n",
        "import metrics\n",
        "import os\n",
        "import pandas as pd\n",
        "import numpy as np\n",
        "import pickle"
      ],
      "execution_count": 0,
      "outputs": []
    },
    {
      "cell_type": "code",
      "metadata": {
        "id": "5VA84u4x1Vao",
        "colab_type": "code",
        "colab": {}
      },
      "source": [
        "with open('csv/duplicates.pkl', 'rb') as f:\n",
        "  duplicates = pickle.load(f)"
      ],
      "execution_count": 0,
      "outputs": []
    },
    {
      "cell_type": "code",
      "metadata": {
        "id": "7S6A3wNr1W-F",
        "colab_type": "code",
        "colab": {
          "base_uri": "https://localhost:8080/",
          "height": 71
        },
        "outputId": "28ad251f-3112-44d0-f8a9-6bf0b2bf6743"
      },
      "source": [
        "from imblearn.under_sampling import RandomUnderSampler\n",
        "from sklearn.model_selection import train_test_split\n",
        "\n",
        "def resample(X, y):\n",
        "  rus = RandomUnderSampler(random_state=23)\n",
        "  return rus.fit_resample(X, y)"
      ],
      "execution_count": 5,
      "outputs": [
        {
          "output_type": "stream",
          "text": [
            "/usr/local/lib/python3.6/dist-packages/sklearn/externals/six.py:31: DeprecationWarning: The module is deprecated in version 0.21 and will be removed in version 0.23 since we've dropped support for Python 2.7. Please rely on the official version of six (https://pypi.org/project/six/).\n",
            "  \"(https://pypi.org/project/six/).\", DeprecationWarning)\n"
          ],
          "name": "stderr"
        }
      ]
    },
    {
      "cell_type": "code",
      "metadata": {
        "id": "06NEZRzV1aUL",
        "colab_type": "code",
        "colab": {}
      },
      "source": [
        "dup = []\n",
        "for duplicate in duplicates:\n",
        "    text = '\\n\\n'.join(duplicate.fragments)\n",
        "    dup.append({'text': text, 'exp': duplicate.exp})"
      ],
      "execution_count": 0,
      "outputs": []
    },
    {
      "cell_type": "code",
      "metadata": {
        "id": "mFfL9xQx1fUq",
        "colab_type": "code",
        "colab": {}
      },
      "source": [
        "df_tfidf = pd.DataFrame(dup)\n",
        "X = np.array(df_tfidf['text'])\n",
        "y = np.array(df_tfidf['exp'])\n",
        "X_resampled, y_resampled = resample(X.reshape(-1, 1), y.reshape(-1, 1))\n",
        "X_resampled = X_resampled.reshape(1, -1)[0]\n",
        "y_resampled = y_resampled.reshape(1, -1)[0]"
      ],
      "execution_count": 0,
      "outputs": []
    },
    {
      "cell_type": "code",
      "metadata": {
        "id": "srT1MjL21hVH",
        "colab_type": "code",
        "colab": {}
      },
      "source": [
        "from sklearn.feature_extraction.text import TfidfTransformer\n",
        "from sklearn.feature_extraction.text import CountVectorizer\n",
        "\n",
        "count_vec = CountVectorizer(ngram_range=(1,1))\n",
        "X_count = count_vec.fit_transform(X_resampled)\n",
        "tfidf_transformer = TfidfTransformer()\n",
        "X_tfidf = tfidf_transformer.fit_transform(X_count)\n",
        "\n",
        "X_train, X_test, y_train, y_test = train_test_split(X_tfidf, y_resampled, random_state=23)"
      ],
      "execution_count": 0,
      "outputs": []
    },
    {
      "cell_type": "code",
      "metadata": {
        "id": "MKX41JP51j3B",
        "colab_type": "code",
        "colab": {
          "base_uri": "https://localhost:8080/",
          "height": 408
        },
        "outputId": "f295b54d-d55a-4af0-b306-a3db2ca71d54"
      },
      "source": [
        "%cd /\n",
        "!git clone https://github.com/hyperopt/hyperopt-sklearn\n",
        "%cd hyperopt-sklearn\n",
        "!pip install -e ."
      ],
      "execution_count": 9,
      "outputs": [
        {
          "output_type": "stream",
          "text": [
            "/\n",
            "Cloning into 'hyperopt-sklearn'...\n",
            "remote: Enumerating objects: 1176, done.\u001b[K\n",
            "remote: Total 1176 (delta 0), reused 0 (delta 0), pack-reused 1176\u001b[K\n",
            "Receiving objects: 100% (1176/1176), 1.99 MiB | 18.88 MiB/s, done.\n",
            "Resolving deltas: 100% (715/715), done.\n",
            "/hyperopt-sklearn\n",
            "Obtaining file:///hyperopt-sklearn\n",
            "Requirement already satisfied: hyperopt in /usr/local/lib/python3.6/dist-packages (from hpsklearn==0.0.3) (0.1.2)\n",
            "Requirement already satisfied: nose in /usr/local/lib/python3.6/dist-packages (from hpsklearn==0.0.3) (1.3.7)\n",
            "Requirement already satisfied: numpy in /usr/local/lib/python3.6/dist-packages (from hpsklearn==0.0.3) (1.16.4)\n",
            "Requirement already satisfied: scikit-learn in /usr/local/lib/python3.6/dist-packages (from hpsklearn==0.0.3) (0.21.2)\n",
            "Requirement already satisfied: scipy in /usr/local/lib/python3.6/dist-packages (from hpsklearn==0.0.3) (1.3.0)\n",
            "Requirement already satisfied: future in /usr/local/lib/python3.6/dist-packages (from hyperopt->hpsklearn==0.0.3) (0.16.0)\n",
            "Requirement already satisfied: pymongo in /usr/local/lib/python3.6/dist-packages (from hyperopt->hpsklearn==0.0.3) (3.8.0)\n",
            "Requirement already satisfied: tqdm in /usr/local/lib/python3.6/dist-packages (from hyperopt->hpsklearn==0.0.3) (4.28.1)\n",
            "Requirement already satisfied: networkx in /usr/local/lib/python3.6/dist-packages (from hyperopt->hpsklearn==0.0.3) (2.3)\n",
            "Requirement already satisfied: six in /usr/local/lib/python3.6/dist-packages (from hyperopt->hpsklearn==0.0.3) (1.12.0)\n",
            "Requirement already satisfied: joblib>=0.11 in /usr/local/lib/python3.6/dist-packages (from scikit-learn->hpsklearn==0.0.3) (0.13.2)\n",
            "Requirement already satisfied: decorator>=4.3.0 in /usr/local/lib/python3.6/dist-packages (from networkx->hyperopt->hpsklearn==0.0.3) (4.4.0)\n",
            "Installing collected packages: hpsklearn\n",
            "  Running setup.py develop for hpsklearn\n",
            "Successfully installed hpsklearn\n"
          ],
          "name": "stdout"
        }
      ]
    },
    {
      "cell_type": "code",
      "metadata": {
        "id": "6Imqto6M1mBb",
        "colab_type": "code",
        "colab": {
          "base_uri": "https://localhost:8080/",
          "height": 51
        },
        "outputId": "a69e572c-526a-4302-8ea0-9eb9b6bbf90d"
      },
      "source": [
        "from hpsklearn import HyperoptEstimator, any_sparse_classifier, tfidf\n",
        "from hyperopt import tpe"
      ],
      "execution_count": 10,
      "outputs": [
        {
          "output_type": "stream",
          "text": [
            "WARN: OMP_NUM_THREADS=None =>\n",
            "... If you are using openblas if you are using openblas set OMP_NUM_THREADS=1 or risk subprocess calls hanging indefinitely\n"
          ],
          "name": "stdout"
        }
      ]
    },
    {
      "cell_type": "code",
      "metadata": {
        "id": "RhZswSt-1odE",
        "colab_type": "code",
        "colab": {}
      },
      "source": [
        "def custom_loss(y_target, y_prediction):\n",
        "  k_fn = 1\n",
        "  k_fp = 10\n",
        "  n = len(y_target)\n",
        "  (fnr, fpr) = metrics.calc_fnr_fpr(y_target, y_prediction)\n",
        "  return k_fn * fnr + k_fp * fpr"
      ],
      "execution_count": 0,
      "outputs": []
    },
    {
      "cell_type": "code",
      "metadata": {
        "id": "m8h62kHd1qKa",
        "colab_type": "code",
        "colab": {
          "base_uri": "https://localhost:8080/",
          "height": 289
        },
        "outputId": "5eae3b16-9c31-45bf-b2ce-d61c433c6189"
      },
      "source": [
        "estim = HyperoptEstimator(classifier=any_sparse_classifier('clf'),\n",
        "                          preprocessing=[],\n",
        "                          algo=tpe.suggest,\n",
        "                          trial_timeout=300,\n",
        "                          loss_fn=custom_loss,\n",
        "                          seed=23)\n",
        "estim.fit(X_train, y_train)"
      ],
      "execution_count": 12,
      "outputs": [
        {
          "output_type": "stream",
          "text": [
            "\r  0%|          | 0/1 [00:00<?, ?it/s, best loss: ?]"
          ],
          "name": "stdout"
        },
        {
          "output_type": "stream",
          "text": [
            "/usr/local/lib/python3.6/dist-packages/sklearn/svm/base.py:929: ConvergenceWarning: Liblinear failed to converge, increase the number of iterations.\n",
            "  \"the number of iterations.\", ConvergenceWarning)\n",
            "\n"
          ],
          "name": "stderr"
        },
        {
          "output_type": "stream",
          "text": [
            "100%|██████████| 1/1 [01:34<00:00, 94.21s/it, best loss: 1.821976672805402]\n",
            "100%|██████████| 1/1 [00:00<00:00,  2.06it/s, best loss: 1.821976672805402]\n",
            "100%|██████████| 1/1 [00:00<00:00, 14.42it/s, best loss: 1.1000613873542051]\n",
            "100%|██████████| 1/1 [00:00<00:00,  1.98it/s, best loss: 1.1000613873542051]\n",
            "100%|██████████| 1/1 [00:00<00:00, 10.98it/s, best loss: 1.1000613873542051]\n",
            "  0%|          | 0/1 [00:00<?, ?it/s, best loss: ?]"
          ],
          "name": "stdout"
        },
        {
          "output_type": "stream",
          "text": [
            "/usr/local/lib/python3.6/dist-packages/sklearn/svm/base.py:929: ConvergenceWarning: Liblinear failed to converge, increase the number of iterations.\n",
            "  \"the number of iterations.\", ConvergenceWarning)\n",
            "\n"
          ],
          "name": "stderr"
        },
        {
          "output_type": "stream",
          "text": [
            "100%|██████████| 1/1 [01:33<00:00, 93.07s/it, best loss: 1.1000613873542051]\n",
            "100%|██████████| 1/1 [00:00<00:00, 17.36it/s, best loss: 1.1000613873542051]\n",
            "100%|██████████| 1/1 [00:00<00:00, 17.29it/s, best loss: 1.1000613873542051]\n",
            "100%|██████████| 1/1 [00:00<00:00, 12.96it/s, best loss: 1.1000613873542051]\n",
            "100%|██████████| 1/1 [00:00<00:00, 16.27it/s, best loss: 1.1000613873542051]\n"
          ],
          "name": "stdout"
        }
      ]
    },
    {
      "cell_type": "code",
      "metadata": {
        "id": "_YxA6O0M1tIG",
        "colab_type": "code",
        "colab": {
          "base_uri": "https://localhost:8080/",
          "height": 272
        },
        "outputId": "515a9270-8d21-4908-f453-8ddcdbbe152f"
      },
      "source": [
        "y_pred = estim.predict(X_test)\n",
        "metrics.print_fnr_fpr(y_test, y_pred)\n",
        "metrics.print_metrics(y_test, y_pred)"
      ],
      "execution_count": 17,
      "outputs": [
        {
          "output_type": "stream",
          "text": [
            "\n",
            "FNR: \n",
            "0.19373848987108655\n",
            "\n",
            "FPR: \n",
            "0.09907918968692449\n",
            "\n",
            "accuracy: \n",
            "0.7071823204419889\n",
            "\n",
            "precision: \n",
            "0.761101243339254\n",
            "\n",
            "recall: \n",
            "0.6196673897324656\n"
          ],
          "name": "stdout"
        }
      ]
    },
    {
      "cell_type": "code",
      "metadata": {
        "id": "KtLu1a7w1ws5",
        "colab_type": "code",
        "colab": {
          "base_uri": "https://localhost:8080/",
          "height": 187
        },
        "outputId": "6b96d509-24bd-4af3-fc8e-5c5c54e8e19a"
      },
      "source": [
        "estim.best_model()"
      ],
      "execution_count": 14,
      "outputs": [
        {
          "output_type": "execute_result",
          "data": {
            "text/plain": [
              "{'ex_preprocs': (),\n",
              " 'learner': SGDClassifier(alpha=0.06118428364662971, average=False, class_weight=None,\n",
              "               early_stopping=False, epsilon=0.1, eta0=0.0003970052556398526,\n",
              "               fit_intercept=True, l1_ratio=0.5022724095962902,\n",
              "               learning_rate='constant', loss='log', max_iter=158684350.0,\n",
              "               n_iter_no_change=5, n_jobs=1, penalty='l2',\n",
              "               power_t=0.907051629874976, random_state=0, shuffle=True,\n",
              "               tol=0.006308140398304822, validation_fraction=0.1, verbose=False,\n",
              "               warm_start=False),\n",
              " 'preprocs': ()}"
            ]
          },
          "metadata": {
            "tags": []
          },
          "execution_count": 14
        }
      ]
    },
    {
      "cell_type": "code",
      "metadata": {
        "id": "S448P1UJ1y-a",
        "colab_type": "code",
        "colab": {}
      },
      "source": [
        "y_prob = [y[1] for y in estim.best_model()['learner'].predict_proba(X_test)]"
      ],
      "execution_count": 0,
      "outputs": []
    },
    {
      "cell_type": "code",
      "metadata": {
        "id": "NuUb6LrZ11ik",
        "colab_type": "code",
        "colab": {
          "base_uri": "https://localhost:8080/",
          "height": 68
        },
        "outputId": "2c29fa01-d97f-4143-b44d-c873b1d3856c"
      },
      "source": [
        "metrics.print_roc_auc(y_test, y_prob)"
      ],
      "execution_count": 16,
      "outputs": [
        {
          "output_type": "stream",
          "text": [
            "\n",
            "roc auc: \n",
            "0.8001469473812206\n"
          ],
          "name": "stdout"
        }
      ]
    },
    {
      "cell_type": "code",
      "metadata": {
        "id": "BPmMa2gq13Xx",
        "colab_type": "code",
        "colab": {}
      },
      "source": [
        ""
      ],
      "execution_count": 0,
      "outputs": []
    }
  ]
}