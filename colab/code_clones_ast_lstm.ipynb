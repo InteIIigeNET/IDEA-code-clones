{
  "cells": [
    {
      "cell_type": "markdown",
      "source": "<a href=\"https://colab.research.google.com/github/MaxVortman/IDEA-code-clones/blob/master/alex/code_clones_ast_lstm.ipynb\" target=\"_parent\"><img src=\"https://colab.research.google.com/assets/colab-badge.svg\" alt=\"Open In Colab\"/></a>"
    },
    {
      "metadata": {
        "id": "Xm7j2CTR5pIS",
        "colab_type": "code",
        "outputId": "dea31c87-95ec-423b-8321-25dee546249f",
        "colab": {
          "base_uri": "https://localhost:8080/",
          "height": 122
        },
        "trusted": true
      },
      "cell_type": "code",
      "source": "from google.colab import drive\ndrive.mount('/content/gdrive')",
      "execution_count": null,
      "outputs": []
    },
    {
      "metadata": {
        "id": "8tA6IosBCPRp",
        "colab_type": "code",
        "outputId": "d46e157d-4b40-4566-8e75-4fb235de7020",
        "colab": {
          "base_uri": "https://localhost:8080/",
          "height": 34
        },
        "trusted": true
      },
      "cell_type": "code",
      "source": "%cd /content/gdrive/My\\ Drive/code-clones/",
      "execution_count": null,
      "outputs": []
    },
    {
      "metadata": {
        "id": "eABxpXxhCXo5",
        "colab_type": "code",
        "colab": {},
        "trusted": true
      },
      "cell_type": "code",
      "source": "",
      "execution_count": null,
      "outputs": []
    },
    {
      "metadata": {
        "id": "kst1uv2z3_l-",
        "colab_type": "code",
        "outputId": "a1d38c3e-ce10-4654-d55e-4abeb2583d66",
        "colab": {
          "base_uri": "https://localhost:8080/",
          "height": 68
        },
        "trusted": true
      },
      "cell_type": "code",
      "source": "DATA_DIR = \"data\"\nXML = \"duplicates_marked.xml\"\nPROJECT = \"Jenkins\" #just put another one\n\nprojPath = os.path.join(DATA_DIR, PROJECT)\nxmlPath = os.path.join(projPath, XML)\n\nduplicates = xmlextractor.parseXml(xmlPath, projPath)",
      "execution_count": null,
      "outputs": []
    },
    {
      "metadata": {
        "id": "VkbhqDiPTtfc",
        "colab_type": "code",
        "outputId": "883082ab-9668-4212-c830-63ec9459ca55",
        "colab": {
          "base_uri": "https://localhost:8080/",
          "height": 34
        },
        "trusted": true
      },
      "cell_type": "code",
      "source": "%cd /content",
      "execution_count": null,
      "outputs": []
    },
    {
      "metadata": {
        "id": "SQ9APvr4lnPs",
        "colab_type": "code",
        "outputId": "0eea1638-8958-4574-acc5-a10df4e95e24",
        "colab": {
          "base_uri": "https://localhost:8080/",
          "height": 136
        },
        "trusted": true
      },
      "cell_type": "code",
      "source": "import treelstm\nimport javaToPythonTreeNormalizerMiddleware",
      "execution_count": null,
      "outputs": []
    },
    {
      "metadata": {
        "id": "NQO0Pzm8miWf",
        "colab_type": "code",
        "colab": {},
        "trusted": true
      },
      "cell_type": "code",
      "source": "!mv models/ treelstm/",
      "execution_count": null,
      "outputs": []
    },
    {
      "metadata": {
        "id": "6O266bA74zq3",
        "colab_type": "code",
        "outputId": "f342f78d-a317-4187-d2ef-ba9111ad84b5",
        "colab": {
          "base_uri": "https://localhost:8080/",
          "height": 34
        },
        "trusted": true
      },
      "cell_type": "code",
      "source": "%cd treelstm/",
      "execution_count": null,
      "outputs": []
    },
    {
      "metadata": {
        "id": "HT1JQCIZmvR_",
        "colab_type": "code",
        "outputId": "93501301-9511-4311-8c07-39dc548ec392",
        "colab": {
          "base_uri": "https://localhost:8080/",
          "height": 34
        },
        "trusted": true
      },
      "cell_type": "code",
      "source": "import xmlextractor\nimport os\nfrom tqdm import tqdm\nimport pexpect\nimport sys\nimport time\nimport numpy as np\nimport json\n\n#спасибо Максиму за офигенные лайфхаки с консолью, Ctrl C + Ctrl V\ndef expectCodeVectors(child, acc):\n  index1 = child.expect([\"Code vector:\", \"Modify the file: \\\"Input.java\\\" and press any key when ready, or \\\"q\\\" / \\\"quit\\\" / \\\"exit\\\" to exit\"])\n  if index1 == 0:\n    index2 = child.expect([\"Modify the file: \\\"Input.java\\\" and press any key when ready, or \\\"q\\\" / \\\"quit\\\" / \\\"exit\\\" to exit\", \"Original name:\"])\n    acc.append(child.before)\n    if index2 == 0:\n      return acc\n    elif index2 == 1:\n      return expectCodeVectors(child, acc)\n  elif index1 == 1:\n    return []\n\ndef list2vec(l):\n  result_acc = []\n  for code_vector in acc:\n    result_code_vector = []\n    for s in code_vector:\n      result_code_vector.append(float(s))\n    result_acc.append(result_code_vector)\n  return result_acc\n\nchild = pexpect.spawn ('python3 treelstm.py --load models/java_for_lstm_prepared/defaultModel --export --pred', timeout=None)\n\ncode_vectors = []\nchild.expect(\"Modify the file: \\\"Input.java\\\" and press any key when ready, or \\\"q\\\" / \\\"quit\\\" / \\\"exit\\\" to exit\")\n\nfor duplicate in tqdm(duplicates, ascii=True):\n  duplicate_code_vectors = []\n  for fragment in duplicate.fragments:\n    with open(\"Input.java\", 'w') as f:\n      child = pexpect.spawn ('python3 javaToPythonTreeNormalizer.py --process models/java_for_lstm', timeout=None)\n      f.write(fragment)\n    child.sendline(\"r\")\n    acc = expectCodeVectors(child, [])\n    if acc == []:\n      continue\n    acc = list2vec(acc)\n    duplicate_code_vectors.append(np.mean(acc, axis=0).tolist())\n  code_vectors.append({'exp': duplicate.exp, 'vectors': duplicate_code_vectors})\n\nchild.sendline(\"q\")\nchild.expect(pexpect.EOF)\nchild.close()",
      "execution_count": null,
      "outputs": []
    },
    {
      "metadata": {
        "id": "VwhGoYYWUvtm",
        "colab_type": "code",
        "colab": {},
        "trusted": true
      },
      "cell_type": "code",
      "source": "JSON_FILE = '/content/gdrive/My Drive/code-clones/alex/csv/ast_lstm_vectors.json'\n\nwith open(JSON_FILE, 'w') as outfile:\n    json.dump(code_vectors, outfile)",
      "execution_count": null,
      "outputs": []
    },
    {
      "metadata": {
        "id": "LbqOXKSdisuu",
        "colab_type": "code",
        "colab": {},
        "trusted": true
      },
      "cell_type": "code",
      "source": "#OK",
      "execution_count": null,
      "outputs": []
    },
    {
      "metadata": {
        "trusted": true
      },
      "cell_type": "code",
      "source": "",
      "execution_count": null,
      "outputs": []
    }
  ],
  "metadata": {
    "colab": {
      "name": "code-clones-ast-lstm.ipynb",
      "version": "0.3.2",
      "provenance": [],
      "collapsed_sections": [],
      "include_colab_link": true
    },
    "kernelspec": {
      "name": "python3",
      "display_name": "Python 3",
      "language": "python"
    },
    "language_info": {
      "mimetype": "text/x-python",
      "nbconvert_exporter": "python",
      "name": "python",
      "file_extension": ".py",
      "version": "3.5.4",
      "pygments_lexer": "ipython3",
      "codemirror_mode": {
        "version": 3,
        "name": "ipython"
      }
    }
  },
  "nbformat": 4,
  "nbformat_minor": 1
}