{
  "nbformat": 4,
  "nbformat_minor": 0,
  "metadata": {
    "colab": {
      "name": "code-clones-fastText.ipynb",
      "version": "0.3.2",
      "provenance": [],
      "collapsed_sections": [],
      "include_colab_link": true
    },
    "kernelspec": {
      "name": "python3",
      "display_name": "Python 3"
    }
  },
  "cells": [
    {
      "cell_type": "markdown",
      "metadata": {
        "id": "view-in-github",
        "colab_type": "text"
      },
      "source": [
        "<a href=\"https://colab.research.google.com/github/MaxVortman/IDEA-code-clones/blob/master/code_clones_fastText.ipynb\" target=\"_parent\"><img src=\"https://colab.research.google.com/assets/colab-badge.svg\" alt=\"Open In Colab\"/></a>"
      ]
    },
    {
      "cell_type": "code",
      "metadata": {
        "id": "fppIjeLd3nEF",
        "colab_type": "code",
        "outputId": "4b8d00a4-9c6e-45a2-d7d3-23e66e687336",
        "colab": {
          "base_uri": "https://localhost:8080/",
          "height": 34
        }
      },
      "source": [
        "from google.colab import drive\n",
        "drive.mount('/content/gdrive')"
      ],
      "execution_count": 0,
      "outputs": [
        {
          "output_type": "stream",
          "text": [
            "Drive already mounted at /content/gdrive; to attempt to forcibly remount, call drive.mount(\"/content/gdrive\", force_remount=True).\n"
          ],
          "name": "stdout"
        }
      ]
    },
    {
      "cell_type": "code",
      "metadata": {
        "id": "HBv8S6vk3pp0",
        "colab_type": "code",
        "outputId": "4aef17a2-69f2-4162-9ebf-251114c42382",
        "colab": {
          "base_uri": "https://localhost:8080/",
          "height": 340
        }
      },
      "source": [
        "!git clone https://github.com/facebookresearch/fastText.git\n",
        "%cd fastText\n",
        "!pip install .\n",
        "%cd .."
      ],
      "execution_count": 0,
      "outputs": [
        {
          "output_type": "stream",
          "text": [
            "Cloning into 'fastText'...\n",
            "remote: Enumerating objects: 2, done.\u001b[K\n",
            "remote: Counting objects:  50% (1/2)   \u001b[K\rremote: Counting objects: 100% (2/2)   \u001b[K\rremote: Counting objects: 100% (2/2), done.\u001b[K\n",
            "remote: Compressing objects:  50% (1/2)   \u001b[K\rremote: Compressing objects: 100% (2/2)   \u001b[K\rremote: Compressing objects: 100% (2/2), done.\u001b[K\n",
            "Receiving objects:   0% (1/3197)   \rReceiving objects:   1% (32/3197)   \rReceiving objects:   2% (64/3197)   \rReceiving objects:   3% (96/3197)   \rReceiving objects:   4% (128/3197)   \rReceiving objects:   5% (160/3197)   \rReceiving objects:   6% (192/3197)   \rReceiving objects:   7% (224/3197)   \rReceiving objects:   8% (256/3197)   \rReceiving objects:   9% (288/3197)   \rReceiving objects:  10% (320/3197)   \rReceiving objects:  11% (352/3197)   \rReceiving objects:  12% (384/3197)   \rReceiving objects:  13% (416/3197)   \rReceiving objects:  14% (448/3197)   \rReceiving objects:  15% (480/3197)   \rReceiving objects:  16% (512/3197)   \rReceiving objects:  17% (544/3197)   \rReceiving objects:  18% (576/3197)   \rReceiving objects:  19% (608/3197)   \rReceiving objects:  20% (640/3197)   \rReceiving objects:  21% (672/3197)   \rReceiving objects:  22% (704/3197)   \rReceiving objects:  23% (736/3197)   \rReceiving objects:  24% (768/3197)   \rReceiving objects:  25% (800/3197)   \rReceiving objects:  26% (832/3197)   \rReceiving objects:  27% (864/3197)   \rReceiving objects:  28% (896/3197)   \rReceiving objects:  29% (928/3197)   \rReceiving objects:  30% (960/3197)   \rReceiving objects:  31% (992/3197)   \rReceiving objects:  32% (1024/3197)   \rReceiving objects:  33% (1056/3197)   \rReceiving objects:  34% (1087/3197)   \rReceiving objects:  35% (1119/3197)   \rReceiving objects:  36% (1151/3197)   \rReceiving objects:  37% (1183/3197)   \rReceiving objects:  38% (1215/3197)   \rReceiving objects:  39% (1247/3197)   \rReceiving objects:  40% (1279/3197)   \rReceiving objects:  41% (1311/3197)   \rReceiving objects:  42% (1343/3197)   \rReceiving objects:  43% (1375/3197)   \rReceiving objects:  44% (1407/3197)   \rReceiving objects:  45% (1439/3197)   \rReceiving objects:  46% (1471/3197)   \rReceiving objects:  47% (1503/3197)   \rReceiving objects:  48% (1535/3197)   \rReceiving objects:  49% (1567/3197)   \rReceiving objects:  50% (1599/3197)   \rReceiving objects:  51% (1631/3197)   \rReceiving objects:  52% (1663/3197)   \rReceiving objects:  53% (1695/3197)   \rReceiving objects:  54% (1727/3197)   \rReceiving objects:  55% (1759/3197)   \rReceiving objects:  56% (1791/3197)   \rReceiving objects:  57% (1823/3197)   \rReceiving objects:  58% (1855/3197)   \rReceiving objects:  59% (1887/3197)   \rReceiving objects:  60% (1919/3197)   \rReceiving objects:  61% (1951/3197)   \rReceiving objects:  62% (1983/3197)   \rReceiving objects:  63% (2015/3197)   \rReceiving objects:  64% (2047/3197)   \rReceiving objects:  65% (2079/3197)   \rReceiving objects:  66% (2111/3197)   \rReceiving objects:  67% (2142/3197)   \rReceiving objects:  68% (2174/3197)   \rReceiving objects:  69% (2206/3197)   \rReceiving objects:  70% (2238/3197)   \rReceiving objects:  71% (2270/3197)   \rReceiving objects:  72% (2302/3197)   \rReceiving objects:  73% (2334/3197)   \rReceiving objects:  74% (2366/3197)   \rReceiving objects:  75% (2398/3197)   \rReceiving objects:  76% (2430/3197)   \rReceiving objects:  77% (2462/3197)   \rReceiving objects:  78% (2494/3197)   \rReceiving objects:  79% (2526/3197)   \rReceiving objects:  80% (2558/3197)   \rReceiving objects:  81% (2590/3197)   \rReceiving objects:  82% (2622/3197)   \rReceiving objects:  83% (2654/3197)   \rReceiving objects:  84% (2686/3197)   \rReceiving objects:  85% (2718/3197)   \rReceiving objects:  86% (2750/3197)   \rReceiving objects:  87% (2782/3197)   \rReceiving objects:  88% (2814/3197)   \rReceiving objects:  89% (2846/3197)   \rReceiving objects:  90% (2878/3197)   \rReceiving objects:  91% (2910/3197)   \rReceiving objects:  92% (2942/3197)   \rReceiving objects:  93% (2974/3197)   \rReceiving objects:  94% (3006/3197)   \rremote: Total 3197 (delta 0), reused 1 (delta 0), pack-reused 3195\u001b[K\n",
            "Receiving objects:  95% (3038/3197)   \rReceiving objects:  96% (3070/3197)   \rReceiving objects:  97% (3102/3197)   \rReceiving objects:  98% (3134/3197)   \rReceiving objects:  99% (3166/3197)   \rReceiving objects: 100% (3197/3197)   \rReceiving objects: 100% (3197/3197), 7.84 MiB | 33.46 MiB/s, done.\n",
            "Resolving deltas:   0% (0/2007)   \rResolving deltas:   1% (26/2007)   \rResolving deltas:   2% (44/2007)   \rResolving deltas:   3% (61/2007)   \rResolving deltas:   4% (97/2007)   \rResolving deltas:   5% (106/2007)   \rResolving deltas:   6% (130/2007)   \rResolving deltas:   7% (141/2007)   \rResolving deltas:   8% (164/2007)   \rResolving deltas:   9% (187/2007)   \rResolving deltas:  10% (203/2007)   \rResolving deltas:  11% (238/2007)   \rResolving deltas:  12% (250/2007)   \rResolving deltas:  13% (261/2007)   \rResolving deltas:  14% (300/2007)   \rResolving deltas:  15% (314/2007)   \rResolving deltas:  16% (329/2007)   \rResolving deltas:  17% (342/2007)   \rResolving deltas:  21% (439/2007)   \rResolving deltas:  22% (443/2007)   \rResolving deltas:  23% (480/2007)   \rResolving deltas:  24% (482/2007)   \rResolving deltas:  25% (503/2007)   \rResolving deltas:  26% (524/2007)   \rResolving deltas:  27% (556/2007)   \rResolving deltas:  28% (565/2007)   \rResolving deltas:  29% (583/2007)   \rResolving deltas:  30% (608/2007)   \rResolving deltas:  31% (627/2007)   \rResolving deltas:  34% (687/2007)   \rResolving deltas:  35% (707/2007)   \rResolving deltas:  36% (731/2007)   \rResolving deltas:  37% (754/2007)   \rResolving deltas:  38% (766/2007)   \rResolving deltas:  39% (792/2007)   \rResolving deltas:  40% (810/2007)   \rResolving deltas:  42% (853/2007)   \rResolving deltas:  45% (906/2007)   \rResolving deltas:  47% (950/2007)   \rResolving deltas:  50% (1011/2007)   \rResolving deltas:  51% (1031/2007)   \rResolving deltas:  54% (1089/2007)   \rResolving deltas:  55% (1109/2007)   \rResolving deltas:  57% (1150/2007)   \rResolving deltas:  59% (1186/2007)   \rResolving deltas:  60% (1208/2007)   \rResolving deltas:  62% (1264/2007)   \rResolving deltas:  64% (1291/2007)   \rResolving deltas:  65% (1313/2007)   \rResolving deltas:  66% (1334/2007)   \rResolving deltas:  67% (1354/2007)   \rResolving deltas:  68% (1373/2007)   \rResolving deltas:  69% (1386/2007)   \rResolving deltas:  71% (1425/2007)   \rResolving deltas:  72% (1464/2007)   \rResolving deltas:  75% (1525/2007)   \rResolving deltas:  78% (1573/2007)   \rResolving deltas:  79% (1590/2007)   \rResolving deltas:  80% (1613/2007)   \rResolving deltas:  81% (1628/2007)   \rResolving deltas:  82% (1649/2007)   \rResolving deltas:  83% (1666/2007)   \rResolving deltas:  84% (1686/2007)   \rResolving deltas:  85% (1726/2007)   \rResolving deltas:  86% (1727/2007)   \rResolving deltas:  90% (1820/2007)   \rResolving deltas:  91% (1827/2007)   \rResolving deltas:  92% (1859/2007)   \rResolving deltas:  93% (1867/2007)   \rResolving deltas:  94% (1892/2007)   \rResolving deltas:  95% (1908/2007)   \rResolving deltas:  97% (1948/2007)   \rResolving deltas:  98% (1969/2007)   \rResolving deltas:  99% (1991/2007)   \rResolving deltas: 100% (2007/2007)   \rResolving deltas: 100% (2007/2007), done.\n",
            "/content/fastText\n",
            "Processing /content/fastText\n",
            "Requirement already satisfied: pybind11>=2.2 in /usr/local/lib/python3.6/dist-packages (from fasttext==0.8.22) (2.2.4)\n",
            "Requirement already satisfied: setuptools>=0.7.0 in /usr/local/lib/python3.6/dist-packages (from fasttext==0.8.22) (41.0.1)\n",
            "Requirement already satisfied: numpy in /usr/local/lib/python3.6/dist-packages (from fasttext==0.8.22) (1.16.3)\n",
            "Building wheels for collected packages: fasttext\n",
            "  Building wheel for fasttext (setup.py) ... \u001b[?25l\u001b[?25hdone\n",
            "  Stored in directory: /tmp/pip-ephem-wheel-cache-ub3_uu_5/wheels/a1/9f/52/696ce6c5c46325e840c76614ee5051458c0df10306987e7443\n",
            "Successfully built fasttext\n",
            "Installing collected packages: fasttext\n",
            "Successfully installed fasttext-0.8.22\n",
            "/content\n"
          ],
          "name": "stdout"
        }
      ]
    },
    {
      "cell_type": "code",
      "metadata": {
        "id": "-i-OjXMp-D0J",
        "colab_type": "code",
        "colab": {}
      },
      "source": [
        "import fastText"
      ],
      "execution_count": 0,
      "outputs": []
    },
    {
      "cell_type": "code",
      "metadata": {
        "id": "sAXyaW7xbQVz",
        "colab_type": "code",
        "outputId": "b2054470-cbe1-46ca-c2c0-176004aff39d",
        "colab": {
          "base_uri": "https://localhost:8080/",
          "height": 34
        }
      },
      "source": [
        "%cd /content/gdrive/My\\ Drive/code-clones"
      ],
      "execution_count": 0,
      "outputs": [
        {
          "output_type": "stream",
          "text": [
            "/content/gdrive/My Drive/code-clones\n"
          ],
          "name": "stdout"
        }
      ]
    },
    {
      "cell_type": "code",
      "metadata": {
        "id": "wJJ0_bYWbSJh",
        "colab_type": "code",
        "colab": {}
      },
      "source": [
        "import xmlextractor\n",
        "import pandas as pd\n",
        "import numpy as np"
      ],
      "execution_count": 0,
      "outputs": []
    },
    {
      "cell_type": "code",
      "metadata": {
        "id": "55uukcyDbClq",
        "colab_type": "code",
        "colab": {}
      },
      "source": [
        "duplicates = xmlextractor.parseXml(\"data/lwjgl-master/duplicates.xml\", \"data/lwjgl-master\")\n",
        "duplicates.extend(xmlextractor.parseXml(\"data/lwjgl3-master/duplicates.xml\", \"data/lwjgl3-master\"))\n",
        "duplicates.extend(xmlextractor.parseXml(\"data/spring-framework-master/duplicates_marked.xml\", \"data/spring-framework-master\"))\n",
        "duplicates.extend(xmlextractor.parseXml(\"data/jenkins-master/duplicates_marked.xml\", \"data/jenkins-master\"))\n",
        "duplicates.extend(xmlextractor.parseXml(\"data/RxJava-2.x/duplicates_marked.xml\", \"data/RxJava-2.x\"))"
      ],
      "execution_count": 0,
      "outputs": []
    },
    {
      "cell_type": "code",
      "metadata": {
        "id": "-2kNqIMtiEPo",
        "colab_type": "code",
        "colab": {}
      },
      "source": [
        "import re\n",
        "\n",
        "all_fragment_duplicates = []\n",
        "for duplicate in duplicates:\n",
        "    text = ''.join(duplicate.fragments)\n",
        "    text = text.replace('\\n', ' ').replace('\\r', '').replace('\\t', ' ')\n",
        "    text = re.sub(\" +\", \" \", text)\n",
        "    all_fragment_duplicates.append({'text': text, 'exp': duplicate.exp})"
      ],
      "execution_count": 0,
      "outputs": []
    },
    {
      "cell_type": "code",
      "metadata": {
        "id": "iEQu4LTh7lPU",
        "colab_type": "code",
        "outputId": "2143686a-95b8-4092-b52c-d8d73d3c2607",
        "colab": {
          "base_uri": "https://localhost:8080/",
          "height": 54
        }
      },
      "source": [
        "all_fragment_duplicates[0]['text']"
      ],
      "execution_count": 0,
      "outputs": [
        {
          "output_type": "execute_result",
          "data": {
            "text/plain": [
              "'/** * A hash map using primitive ints as keys rather than objects. * * @author Justin Couch * @author Alex Chaffee (alex@apache.org) * @author Stephen Colebourne * @author Nathan Sweet */ final class FastIntMap<V> implements Iterable<FastIntMap.Entry<V>> { private Entry[] table; private int size, mask, capacity, threshold; /** Same as: FastIntMap(16, 0.75f); */ FastIntMap() { this(16, 0.75f); } /** Same as: FastIntMap(initialCapacity, 0.75f); */ FastIntMap(int initialCapacity) { this(initialCapacity, 0.75f); } FastIntMap(int initialCapacity, float loadFactor) { if ( initialCapacity > 1 << 30 ) throw new IllegalArgumentException(\"initialCapacity is too large.\"); if ( initialCapacity < 0 ) throw new IllegalArgumentException(\"initialCapacity must be greater than zero.\"); if ( loadFactor <= 0 ) throw new IllegalArgumentException(\"initialCapacity must be greater than zero.\"); capacity = 1; while ( capacity < initialCapacity ) capacity <<= 1; this.threshold = (int)(capacity * loadFactor); this.table = new Entry[capacity]; this.mask = capacity - 1; } private int index(final int key) { return index(key, mask); } private static int index(final int key, final int mask) { return key & mask; } public V put(int key, V value) { final Entry<V>[] table = this.table; int index = index(key); // Check if key already exists. for ( Entry<V> e = table[index]; e != null; e = e.next ) { if ( e.key != key ) continue; V oldValue = e.value; e.value = value; return oldValue; } table[index] = new Entry<V>(key, value, table[index]); if ( size++ >= threshold ) rehash(table); return null; } private void rehash(final Entry<V>[] table) { final int newCapacity = 2 * capacity; final int newMask = newCapacity - 1; final Entry<V>[] newTable = new Entry[newCapacity]; for ( int i = 0, index; i < table.length; i++ ) { Entry<V> e = table[i]; if ( e == null ) continue; do { final Entry<V> next = e.next; index = index(e.key, newMask); e.next = newTable[index]; newTable[index] = e; e = next; } while ( e != null ); } this.table = newTable; capacity = newCapacity; mask = newMask; threshold *= 2; } public V get(int key) { final int index = index(key); for ( Entry<V> e = table[index]; e != null; e = e.next ) if ( e.key == key ) return e.value; return null; } public boolean containsValue(Object value) { final Entry<V>[] table = this.table; for ( int i = table.length - 1; i >= 0; i-- ) for ( Entry<V> e = table[i]; e != null; e = e.next ) if ( e.value.equals(value) ) return true; return false; } public boolean containsKey(int key) { final int index = index(key); for ( Entry<V> e = table[index]; e != null; e = e.next ) if ( e.key == key ) return true; return false; } public V remove(int key) { final int index = index(key); Entry<V> prev = table[index]; Entry<V> e = prev; while ( e != null ) { Entry<V> next = e.next; if ( e.key == key ) { size--; if ( prev == e ) table[index] = next; else prev.next = next; return e.value; } prev = e; e = next; } return null; } public int size() { return size; } public boolean isEmpty() { return size == 0; } public void clear() { final Entry<V>[] table = this.table; for ( int index = table.length - 1; index >= 0; index-- ) table[index] = null; size = 0; } public EntryIterator iterator() { return new EntryIterator(); } public class EntryIterator implements Iterator<Entry<V>> { private int nextIndex; private Entry<V> current; EntryIterator() { reset(); } public void reset() { current = null; // Find first bucket. final Entry<V>[] table = FastIntMap.this.table; int i; for ( i = table.length - 1; i >= 0; i-- ) if ( table[i] != null ) break; nextIndex = i; } public boolean hasNext() { if ( nextIndex >= 0 ) return true; Entry e = current; return e != null && e.next != null; } public Entry<V> next() { // Next entry in current bucket. Entry<V> e = current; if ( e != null ) { e = e.next; if ( e != null ) { current = e; return e; } } // Use the bucket at nextIndex and find the next nextIndex. final Entry<V>[] table = FastIntMap.this.table; int i = nextIndex; e = current = table[i]; while ( --i >= 0 ) if ( table[i] != null ) break; nextIndex = i; return e; } public void remove() { FastIntMap.this.remove(current.key); } } static final class Entry<T> { final int key; T value; Entry<T> next; Entry(int key, T value, Entry<T> next) { this.key = key; this.value = value; this.next = next; } public int getKey() { return key; } public T getValue() { return value; } } }/** * A hash map using primitive ints as keys rather than objects. * * @author Justin Couch * @author Alex Chaffee (alex@apache.org) * @author Stephen Colebourne * @author Nathan Sweet */ final class FastIntMap<V> implements Iterable<FastIntMap.Entry<V>> { private Entry[] table; private int size, mask, capacity, threshold; /** Same as: FastIntMap(16, 0.75f); */ FastIntMap() { this(16, 0.75f); } /** Same as: FastIntMap(initialCapacity, 0.75f); */ FastIntMap(int initialCapacity) { this(initialCapacity, 0.75f); } FastIntMap(int initialCapacity, float loadFactor) { if ( initialCapacity > 1 << 30 ) throw new IllegalArgumentException(\"initialCapacity is too large.\"); if ( initialCapacity < 0 ) throw new IllegalArgumentException(\"initialCapacity must be greater than zero.\"); if ( loadFactor <= 0 ) throw new IllegalArgumentException(\"initialCapacity must be greater than zero.\"); capacity = 1; while ( capacity < initialCapacity ) capacity <<= 1; this.threshold = (int)(capacity * loadFactor); this.table = new Entry[capacity]; this.mask = capacity - 1; } private int index(final int key) { return index(key, mask); } private static int index(final int key, final int mask) { return key & mask; } public V put(int key, V value) { final Entry<V>[] table = this.table; int index = index(key); // Check if key already exists. for ( Entry<V> e = table[index]; e != null; e = e.next ) { if ( e.key != key ) continue; V oldValue = e.value; e.value = value; return oldValue; } table[index] = new Entry<V>(key, value, table[index]); if ( size++ >= threshold ) rehash(table); return null; } private void rehash(final Entry<V>[] table) { final int newCapacity = 2 * capacity; final int newMask = newCapacity - 1; final Entry<V>[] newTable = new Entry[newCapacity]; for ( int i = 0, index; i < table.length; i++ ) { Entry<V> e = table[i]; if ( e == null ) continue; do { final Entry<V> next = e.next; index = index(e.key, newMask); e.next = newTable[index]; newTable[index] = e; e = next; } while ( e != null ); } this.table = newTable; capacity = newCapacity; mask = newMask; threshold *= 2; } public V get(int key) { final int index = index(key); for ( Entry<V> e = table[index]; e != null; e = e.next ) if ( e.key == key ) return e.value; return null; } public boolean containsValue(Object value) { final Entry<V>[] table = this.table; for ( int i = table.length - 1; i >= 0; i-- ) for ( Entry<V> e = table[i]; e != null; e = e.next ) if ( e.value.equals(value) ) return true; return false; } public boolean containsKey(int key) { final int index = index(key); for ( Entry<V> e = table[index]; e != null; e = e.next ) if ( e.key == key ) return true; return false; } public V remove(int key) { final int index = index(key); Entry<V> prev = table[index]; Entry<V> e = prev; while ( e != null ) { Entry<V> next = e.next; if ( e.key == key ) { size--; if ( prev == e ) table[index] = next; else prev.next = next; return e.value; } prev = e; e = next; } return null; } public int size() { return size; } public boolean isEmpty() { return size == 0; } public void clear() { final Entry<V>[] table = this.table; for ( int index = table.length - 1; index >= 0; index-- ) table[index] = null; size = 0; } public EntryIterator iterator() { return new EntryIterator(); } public class EntryIterator implements Iterator<Entry<V>> { private int nextIndex; private Entry<V> current; EntryIterator() { reset(); } public void reset() { current = null; // Find first bucket. final Entry<V>[] table = FastIntMap.this.table; int i; for ( i = table.length - 1; i >= 0; i-- ) if ( table[i] != null ) break; nextIndex = i; } public boolean hasNext() { if ( nextIndex >= 0 ) return true; Entry e = current; return e != null && e.next != null; } public Entry<V> next() { // Next entry in current bucket. Entry<V> e = current; if ( e != null ) { e = e.next; if ( e != null ) { current = e; return e; } } // Use the bucket at nextIndex and find the next nextIndex. final Entry<V>[] table = FastIntMap.this.table; int i = nextIndex; e = current = table[i]; while ( --i >= 0 ) if ( table[i] != null ) break; nextIndex = i; return e; } public void remove() { FastIntMap.this.remove(current.key); } } static final class Entry<T> { final int key; T value; Entry<T> next; Entry(int key, T value, Entry<T> next) { this.key = key; this.value = value; this.next = next; } public int getKey() { return key; } public T getValue() { return value; } } }'"
            ]
          },
          "metadata": {
            "tags": []
          },
          "execution_count": 41
        }
      ]
    },
    {
      "cell_type": "code",
      "metadata": {
        "id": "z9sS9oozo910",
        "colab_type": "code",
        "colab": {}
      },
      "source": [
        "from imblearn.under_sampling import RandomUnderSampler\n",
        "from sklearn.model_selection import train_test_split\n",
        "\n",
        "def resample(X, y):\n",
        "  rus = RandomUnderSampler(random_state=23)\n",
        "  return rus.fit_resample(X, y)"
      ],
      "execution_count": 0,
      "outputs": []
    },
    {
      "cell_type": "code",
      "metadata": {
        "id": "lyI5hTIgpEi1",
        "colab_type": "code",
        "colab": {}
      },
      "source": [
        "df = pd.DataFrame(all_fragment_duplicates)\n",
        "X = np.array(df['text'])\n",
        "y = np.array(df['exp'])\n",
        "X_resampled, y_resampled = resample(X.reshape(-1, 1), y.reshape(-1, 1))\n",
        "X_resampled = X_resampled.reshape(1, -1)[0]\n",
        "y_resampled = y_resampled.reshape(1, -1)[0]"
      ],
      "execution_count": 0,
      "outputs": []
    },
    {
      "cell_type": "code",
      "metadata": {
        "id": "5iOnzYzTpWOV",
        "colab_type": "code",
        "colab": {}
      },
      "source": [
        "X_train, X_test, y_train, y_test = train_test_split(X_resampled, y_resampled, random_state=23)"
      ],
      "execution_count": 0,
      "outputs": []
    },
    {
      "cell_type": "code",
      "metadata": {
        "id": "0P2n0iusqFfI",
        "colab_type": "code",
        "colab": {}
      },
      "source": [
        "train_text = '\\n\\r'.join(['__label__{0} {1}'.format(y_train[i], X_train[i]) for i in range(len(X_train))])"
      ],
      "execution_count": 0,
      "outputs": []
    },
    {
      "cell_type": "code",
      "metadata": {
        "id": "muKpALXfkw1w",
        "colab_type": "code",
        "colab": {}
      },
      "source": [
        "input_file_name = 'train.txt'\n",
        "with open(input_file_name, 'w') as f:\n",
        "  f.write(train_text)"
      ],
      "execution_count": 0,
      "outputs": []
    },
    {
      "cell_type": "code",
      "metadata": {
        "id": "ST4vdgwK8UmZ",
        "colab_type": "code",
        "outputId": "a1d91c65-5844-4170-bb77-25f0a6157804",
        "colab": {
          "base_uri": "https://localhost:8080/",
          "height": 207
        }
      },
      "source": [
        "!head train.txt"
      ],
      "execution_count": 0,
      "outputs": [
        {
          "output_type": "stream",
          "text": [
            "__label__0  runs.put(3, previousPreviousBuild); TestBuild previousBuild = new TestBuild(project, Result.SUCCESS, 15, previousPreviousBuild); runs.put(2, previousBuild); TestBuild lastBuild = new TestBuild(project, Result.SUCCESS, 42, previousBuild); runs.put(1, lastBuild); runs.put(6, prev5Build); TestBuild prev4Build = new TestBuild(project, Result.SUCCESS, 1, prev5Build); runs.put(5, prev4Build); TestBuild prev3Build = new TestBuild(project, Result.SUCCESS, 1, prev4Build); runs.put(4, prev3Build);\n",
            "\r__label__0  protected BufferObject(final int type, final int usage, final Buffer buffer) { this(type, usage); setData(buffer); } protected BufferObject(final int type, final int usage, final int dataSize) { this(type, usage); setData(dataSize); }\n",
            "\r__label__1  assertEquals(\"Invalid content-length\", outputMessage.getBodyAsBytes().length, outputMessage.getHeaders().getContentLength()); assertEquals(\"Invalid content-length\", outputMessage.getBodyAsBytes().length, outputMessage.getHeaders().getContentLength());\n",
            "\r__label__1  just1.delay(null, new Function<Integer, Observable<Integer>>() { @Override public Observable<Integer> apply(Integer v) { return just1; } }) just1.delay(null, new Function<Integer, Observable<Integer>>() { @Override public Observable<Integer> apply(Integer v) { return just1; } })\n",
            "\r__label__0  builder1.filters(filters -> assertEquals(1, filters.size())); builder1.defaultHeaders(headers -> assertEquals(1, headers.size())); builder1.defaultCookies(cookies -> assertEquals(1, cookies.size())); WebClient.Builder builder2 = client2.mutate(); builder2.filters(filters -> assertEquals(2, filters.size())); builder2.defaultHeaders(headers -> assertEquals(2, headers.size())); builder2.defaultCookies(cookies -> assertEquals(2, cookies.size())); WebClient.Builder builder1a = client1a.mutate();\n",
            "\r__label__1  assertEquals(4, list.size()); assertEquals(\"OnNext_1-OnNext_a\", list.get(0)); assertEquals(\"OnNext_2-OnNext_b\", list.get(1)); assertEquals(\"OnNext_3-OnNext_c\", list.get(2)); assertEquals(\"OnComplete_null-OnComplete_null\", list.get(3)); assertEquals(4, list.size()); assertEquals(\"OnNext_1-OnNext_a\", list.get(0)); assertEquals(\"OnNext_2-OnNext_b\", list.get(1)); assertEquals(\"OnNext_3-OnNext_c\", list.get(2)); assertEquals(\"OnComplete_null-OnComplete_null\", list.get(3));\n",
            "\r__label__0  LocaleContextHolder.setLocale(Locale.GERMAN); assertEquals(Locale.GERMAN, LocaleContextHolder.getLocale()); assertEquals(TimeZone.getDefault(), LocaleContextHolder.getTimeZone()); assertFalse(LocaleContextHolder.getLocaleContext() instanceof TimeZoneAwareLocaleContext); assertEquals(Locale.GERMAN, LocaleContextHolder.getLocaleContext().getLocale()); LocaleContextHolder.setLocale(Locale.GERMANY); assertEquals(Locale.GERMANY, LocaleContextHolder.getLocale()); assertEquals(TimeZone.getDefault(), LocaleContextHolder.getTimeZone()); assertFalse(LocaleContextHolder.getLocaleContext() instanceof TimeZoneAwareLocaleContext); assertEquals(Locale.GERMANY, LocaleContextHolder.getLocaleContext().getLocale());\n",
            "\r__label__0  @Test public void convertMessageConversionExceptionOnSend() throws JMSException { Message<String> message = createTextMessage(); MessageConverter messageConverter = mock(MessageConverter.class); willThrow(org.springframework.jms.support.converter.MessageConversionException.class) .given(messageConverter).toMessage(eq(message), any()); this.messagingTemplate.setJmsMessageConverter(messageConverter); invokeMessageCreator(); this.thrown.expect(org.springframework.messaging.converter.MessageConversionException.class); this.messagingTemplate.send(\"myQueue\", message); } @Test public void convertMessageFormatException() throws JMSException { Message<String> message = createTextMessage(); MessageConverter messageConverter = mock(MessageConverter.class); willThrow(MessageFormatException.class).given(messageConverter).toMessage(eq(message), any()); this.messagingTemplate.setJmsMessageConverter(messageConverter); invokeMessageCreator(); this.thrown.expect(org.springframework.messaging.converter.MessageConversionException.class); this.messagingTemplate.send(\"myQueue\", message); } @Test public void convertMessageNotWritableException() throws JMSException { Message<String> message = createTextMessage(); MessageConverter messageConverter = mock(MessageConverter.class); willThrow(MessageNotWriteableException.class).given(messageConverter).toMessage(eq(message), any()); this.messagingTemplate.setJmsMessageConverter(messageConverter); invokeMessageCreator(); this.thrown.expect(org.springframework.messaging.converter.MessageConversionException.class); this.messagingTemplate.send(\"myQueue\", message); }\n",
            "\r__label__0  @SuppressWarnings(\"rawtypes\") static String value(Notification notification) { if (notification.isOnNext()) { return String.valueOf(notification.getValue()); } return \"null\"; } @SuppressWarnings(\"rawtypes\") static String value(Notification notification) { if (notification.isOnNext()) { return String.valueOf(notification.getValue()); } return \"null\"; }\n",
            "\r__label__0  @Test public void fused() { TestSubscriber<Integer> ts = SubscriberFusion.newTest(QueueFuseable.ANY); Maybe.just(1).flattenAsFlowable(new Function<Integer, Iterable<Integer>>() { @Override public Iterable<Integer> apply(Integer v) throws Exception { return Arrays.asList(v, v + 1); } }) .subscribe(ts); ts.assertOf(SubscriberFusion.<Integer>assertFuseable()) .assertOf(SubscriberFusion.<Integer>assertFusionMode(QueueFuseable.ASYNC)) .assertResult(1, 2); ; } @Test public void fusedNoSync() { TestSubscriber<Integer> ts = SubscriberFusion.newTest(QueueFuseable.SYNC); Maybe.just(1).flattenAsFlowable(new Function<Integer, Iterable<Integer>>() { @Override public Iterable<Integer> apply(Integer v) throws Exception { return Arrays.asList(v, v + 1); } }) .subscribe(ts); ts.assertOf(SubscriberFusion.<Integer>assertFuseable()) .assertOf(SubscriberFusion.<Integer>assertFusionMode(QueueFuseable.NONE)) .assertResult(1, 2); ; }\n"
          ],
          "name": "stdout"
        }
      ]
    },
    {
      "cell_type": "code",
      "metadata": {
        "id": "JENerre11C43",
        "colab_type": "code",
        "outputId": "b1635da0-481c-4e25-bf1f-5817969e1e3a",
        "colab": {
          "base_uri": "https://localhost:8080/",
          "height": 34
        }
      },
      "source": [
        "!ls"
      ],
      "execution_count": 0,
      "outputs": [
        {
          "output_type": "stream",
          "text": [
            "csv  data  log.txt  __pycache__  test.txt  train.txt  xmlextractor.py\n"
          ],
          "name": "stdout"
        }
      ]
    },
    {
      "cell_type": "code",
      "metadata": {
        "id": "8xXBe_Rs-MRT",
        "colab_type": "code",
        "colab": {}
      },
      "source": [
        "#./fasttext supervised -input train.txt -output model\n",
        "fastText_model = fastText.train_supervised(input_file_name)"
      ],
      "execution_count": 0,
      "outputs": []
    },
    {
      "cell_type": "code",
      "metadata": {
        "id": "_BXj-Spf3fnO",
        "colab_type": "code",
        "colab": {}
      },
      "source": [
        "test_file_name = 'test.txt'\n",
        "y_pred = []\n",
        "for test_text in X_test:\n",
        "  with open(test_file_name, 'w') as f:\n",
        "    f.write(test_text)\n",
        "  #./fasttext predict model.bin test.txt\n",
        "  pred = fastText_model.predict(test_file_name)\n",
        "  y_pred.append(pred)"
      ],
      "execution_count": 0,
      "outputs": []
    },
    {
      "cell_type": "code",
      "metadata": {
        "id": "oGfAtNle8k5b",
        "colab_type": "code",
        "outputId": "48559c74-49df-432c-869f-d83d71b3580a",
        "colab": {
          "base_uri": "https://localhost:8080/",
          "height": 54
        }
      },
      "source": [
        "!head test.txt"
      ],
      "execution_count": 0,
      "outputs": [
        {
          "output_type": "stream",
          "text": [
            "method.getName().equals(\"equals\") && args != nullmethod.getName().equals(\"setClientID\") && args != nullmethod.getName().equals(\"setExceptionListener\") && args != nullmethod.getName().equals(\"equals\") && args != null"
          ],
          "name": "stdout"
        }
      ]
    },
    {
      "cell_type": "code",
      "metadata": {
        "id": "dSSJKjyO4OYT",
        "colab_type": "code",
        "colab": {}
      },
      "source": [
        "y_pred_exp = np.array([int(y[0][0].replace('__label__', '')) for y in y_pred])"
      ],
      "execution_count": 0,
      "outputs": []
    },
    {
      "cell_type": "code",
      "metadata": {
        "id": "A-Q33bTQ8xE7",
        "colab_type": "code",
        "outputId": "5d8162ef-9096-4f71-ff03-9424ecaa3a36",
        "colab": {
          "base_uri": "https://localhost:8080/",
          "height": 34
        }
      },
      "source": [
        "y_pred_exp"
      ],
      "execution_count": 0,
      "outputs": [
        {
          "output_type": "execute_result",
          "data": {
            "text/plain": [
              "array([1, 1, 1, ..., 1, 1, 1])"
            ]
          },
          "metadata": {
            "tags": []
          },
          "execution_count": 69
        }
      ]
    },
    {
      "cell_type": "code",
      "metadata": {
        "id": "DRYkO_6Q6EKM",
        "colab_type": "code",
        "colab": {}
      },
      "source": [
        "def print_uniq_count(arr):\n",
        "  unique, counts = np.unique(arr, return_counts=True)\n",
        "  print(np.asarray((unique, counts)).T)"
      ],
      "execution_count": 0,
      "outputs": []
    },
    {
      "cell_type": "code",
      "metadata": {
        "id": "KF2jNwxM4s5_",
        "colab_type": "code",
        "outputId": "23c82192-c1e1-4d62-cada-bc5d4352d198",
        "colab": {
          "base_uri": "https://localhost:8080/",
          "height": 34
        }
      },
      "source": [
        "print_uniq_count(y_pred_exp)"
      ],
      "execution_count": 0,
      "outputs": [
        {
          "output_type": "stream",
          "text": [
            "[[   1 2715]]\n"
          ],
          "name": "stdout"
        }
      ]
    },
    {
      "cell_type": "code",
      "metadata": {
        "id": "WHTep0Lu5TVO",
        "colab_type": "code",
        "colab": {}
      },
      "source": [
        "def calc_fnr_fpr(y_target, y_prediction):\n",
        "  fp = 0\n",
        "  fn = 0\n",
        "  n = len(y_target)\n",
        "  for i in range(n):\n",
        "    if y_prediction[i] == 1 and y_target[i] == 0:\n",
        "      fp += 1\n",
        "    if y_prediction[i] == 0 and y_target[i] == 1:\n",
        "      fn += 1\n",
        "  return (fn / n, fp / n) "
      ],
      "execution_count": 0,
      "outputs": []
    },
    {
      "cell_type": "code",
      "metadata": {
        "id": "Utu4XTwj5UfM",
        "colab_type": "code",
        "outputId": "add010a9-c8d2-4209-c760-42c52d80c232",
        "colab": {
          "base_uri": "https://localhost:8080/",
          "height": 34
        }
      },
      "source": [
        "calc_fnr_fpr(y_test, y_pred_exp)"
      ],
      "execution_count": 0,
      "outputs": [
        {
          "output_type": "execute_result",
          "data": {
            "text/plain": [
              "(0.0, 0.49060773480662984)"
            ]
          },
          "metadata": {
            "tags": []
          },
          "execution_count": 34
        }
      ]
    },
    {
      "cell_type": "code",
      "metadata": {
        "id": "12mxJhhk3Dxf",
        "colab_type": "code",
        "colab": {}
      },
      "source": [
        ""
      ],
      "execution_count": 0,
      "outputs": []
    }
  ]
}