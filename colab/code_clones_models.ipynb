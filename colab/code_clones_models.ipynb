{
  "nbformat": 4,
  "nbformat_minor": 0,
  "metadata": {
    "colab": {
      "name": "code-clones-models.ipynb",
      "version": "0.3.2",
      "provenance": [],
      "collapsed_sections": [],
      "include_colab_link": true
    },
    "kernelspec": {
      "display_name": "Python 3",
      "language": "python",
      "name": "python3"
    }
  },
  "cells": [
    {
      "cell_type": "markdown",
      "metadata": {
        "id": "view-in-github",
        "colab_type": "text"
      },
      "source": [
        "<a href=\"https://colab.research.google.com/github/MaxVortman/IDEA-code-clones/blob/master/colab/code_clones_models.ipynb\" target=\"_parent\"><img src=\"https://colab.research.google.com/assets/colab-badge.svg\" alt=\"Open In Colab\"/></a>"
      ]
    },
    {
      "cell_type": "markdown",
      "metadata": {
        "id": "VgCPCXy9_Z8f",
        "colab_type": "text"
      },
      "source": [
        "# Logistic Regression"
      ]
    },
    {
      "cell_type": "code",
      "metadata": {
        "id": "cvH-jD_u_Z8k",
        "colab_type": "code",
        "colab": {}
      },
      "source": [
        "import pandas as pd\n",
        "import numpy as np\n",
        "from collections import Counter\n",
        "from imblearn.under_sampling import RandomUnderSampler\n",
        "from sklearn.model_selection import train_test_split\n",
        "from sklearn.linear_model import LogisticRegression\n",
        "from sklearn.model_selection import GridSearchCV\n",
        "from scipy import sparse\n",
        "\n",
        "import warnings\n",
        "warnings.filterwarnings('ignore')"
      ],
      "execution_count": 0,
      "outputs": []
    },
    {
      "cell_type": "code",
      "metadata": {
        "id": "RVN3aC5T_Z9T",
        "colab_type": "code",
        "colab": {}
      },
      "source": [
        "from sklearn.metrics import accuracy_score, precision_score, recall_score, roc_auc_score\n",
        "\n",
        "def printMetrics(y_test, y_pred):\n",
        "    print('accuracy: ')\n",
        "    print(accuracy_score(y_test, y_pred))\n",
        "    print('\\nprecision: ')\n",
        "    print(precision_score(y_test, y_pred))\n",
        "    print('\\nrecall: ')\n",
        "    print(recall_score(y_test, y_pred))\n",
        "    print('\\nroc auc: ')\n",
        "    print(roc_auc_score(y_test, y_pred))"
      ],
      "execution_count": 0,
      "outputs": []
    },
    {
      "cell_type": "code",
      "metadata": {
        "id": "AfwM70LzEj_2",
        "colab_type": "code",
        "colab": {}
      },
      "source": [
        "def resample(X, y):\n",
        "  rus = RandomUnderSampler(random_state=23)\n",
        "  return rus.fit_resample(X, y)"
      ],
      "execution_count": 0,
      "outputs": []
    },
    {
      "cell_type": "markdown",
      "metadata": {
        "id": "-X403mTc63eU",
        "colab_type": "text"
      },
      "source": [
        "## Bag of words"
      ]
    },
    {
      "cell_type": "code",
      "metadata": {
        "id": "lxmxQciRAbkN",
        "colab_type": "code",
        "outputId": "dd0af002-bc19-470d-a751-f17f6a2d630f",
        "colab": {
          "base_uri": "https://localhost:8080/",
          "height": 122
        }
      },
      "source": [
        "from google.colab import drive\n",
        "drive.mount('/content/gdrive')"
      ],
      "execution_count": 31,
      "outputs": [
        {
          "output_type": "stream",
          "text": [
            "Go to this URL in a browser: https://accounts.google.com/o/oauth2/auth?client_id=947318989803-6bn6qk8qdgf4n4g3pfee6491hc0brc4i.apps.googleusercontent.com&redirect_uri=urn%3Aietf%3Awg%3Aoauth%3A2.0%3Aoob&scope=email%20https%3A%2F%2Fwww.googleapis.com%2Fauth%2Fdocs.test%20https%3A%2F%2Fwww.googleapis.com%2Fauth%2Fdrive%20https%3A%2F%2Fwww.googleapis.com%2Fauth%2Fdrive.photos.readonly%20https%3A%2F%2Fwww.googleapis.com%2Fauth%2Fpeopleapi.readonly&response_type=code\n",
            "\n",
            "Enter your authorization code:\n",
            "··········\n",
            "Mounted at /content/gdrive\n"
          ],
          "name": "stdout"
        }
      ]
    },
    {
      "cell_type": "code",
      "metadata": {
        "id": "rVOfxVy2_Z8x",
        "colab_type": "code",
        "colab": {}
      },
      "source": [
        "sparse_bow_X = sparse.load_npz(\"/content/gdrive/My Drive/code-clones/csv/bagofwords_vectors_X.npz\")\n",
        "sparse_bow_y = sparse.load_npz(\"/content/gdrive/My Drive/code-clones/csv/bagofwords_vectors_y.npz\").T"
      ],
      "execution_count": 0,
      "outputs": []
    },
    {
      "cell_type": "code",
      "metadata": {
        "id": "3YnUcesCfFym",
        "colab_type": "code",
        "outputId": "9af5e7e0-be73-421e-e881-e893ee4dbbae",
        "colab": {
          "base_uri": "https://localhost:8080/",
          "height": 34
        }
      },
      "source": [
        "sparse_bow_y.shape"
      ],
      "execution_count": 33,
      "outputs": [
        {
          "output_type": "execute_result",
          "data": {
            "text/plain": [
              "(19990, 1)"
            ]
          },
          "metadata": {
            "tags": []
          },
          "execution_count": 33
        }
      ]
    },
    {
      "cell_type": "code",
      "metadata": {
        "id": "kIdMIIrYf6Db",
        "colab_type": "code",
        "outputId": "b852a5f3-4163-43ba-83a3-05ba9a8ce43d",
        "colab": {
          "base_uri": "https://localhost:8080/",
          "height": 34
        }
      },
      "source": [
        "sparse_bow_X.shape"
      ],
      "execution_count": 34,
      "outputs": [
        {
          "output_type": "execute_result",
          "data": {
            "text/plain": [
              "(19990, 52736)"
            ]
          },
          "metadata": {
            "tags": []
          },
          "execution_count": 34
        }
      ]
    },
    {
      "cell_type": "code",
      "metadata": {
        "id": "EIhpsRnuQQJz",
        "colab_type": "code",
        "colab": {}
      },
      "source": [
        "X_resampled, y_resampled = resample(sparse_bow_X, sparse_bow_y.toarray())\n",
        "#print(sorted(Counter(y_resampled.T).items()))\n",
        "X_train, X_test, y_train, y_test = train_test_split(X_resampled, y_resampled, random_state=23)"
      ],
      "execution_count": 0,
      "outputs": []
    },
    {
      "cell_type": "code",
      "metadata": {
        "id": "z5zY9EsYoZwX",
        "colab_type": "code",
        "outputId": "7e3bb5ef-0147-4f82-9771-b99600953597",
        "colab": {
          "base_uri": "https://localhost:8080/",
          "height": 408
        }
      },
      "source": [
        "!git clone https://github.com/hyperopt/hyperopt-sklearn\n",
        "%cd hyperopt-sklearn\n",
        "!pip install -e ."
      ],
      "execution_count": 36,
      "outputs": [
        {
          "output_type": "stream",
          "text": [
            "Cloning into 'hyperopt-sklearn'...\n",
            "remote: Enumerating objects: 7, done.\u001b[K\n",
            "remote: Counting objects:  14% (1/7)   \u001b[K\rremote: Counting objects:  28% (2/7)   \u001b[K\rremote: Counting objects:  42% (3/7)   \u001b[K\rremote: Counting objects:  57% (4/7)   \u001b[K\rremote: Counting objects:  71% (5/7)   \u001b[K\rremote: Counting objects:  85% (6/7)   \u001b[K\rremote: Counting objects: 100% (7/7)   \u001b[K\rremote: Counting objects: 100% (7/7), done.\u001b[K\n",
            "remote: Compressing objects:  14% (1/7)   \u001b[K\rremote: Compressing objects:  28% (2/7)   \u001b[K\rremote: Compressing objects:  42% (3/7)   \u001b[K\rremote: Compressing objects:  57% (4/7)   \u001b[K\rremote: Compressing objects:  71% (5/7)   \u001b[K\rremote: Compressing objects:  85% (6/7)   \u001b[K\rremote: Compressing objects: 100% (7/7)   \u001b[K\rremote: Compressing objects: 100% (7/7), done.\u001b[K\n",
            "Receiving objects:   0% (1/1171)   \rReceiving objects:   1% (12/1171)   \rReceiving objects:   2% (24/1171)   \rReceiving objects:   3% (36/1171)   \rReceiving objects:   4% (47/1171)   \rReceiving objects:   5% (59/1171)   \rReceiving objects:   6% (71/1171)   \rReceiving objects:   7% (82/1171)   \rReceiving objects:   8% (94/1171)   \rReceiving objects:   9% (106/1171)   \rReceiving objects:  10% (118/1171)   \rReceiving objects:  11% (129/1171)   \rReceiving objects:  12% (141/1171)   \rReceiving objects:  13% (153/1171)   \rReceiving objects:  14% (164/1171)   \rReceiving objects:  15% (176/1171)   \rReceiving objects:  16% (188/1171)   \rReceiving objects:  17% (200/1171)   \rReceiving objects:  18% (211/1171)   \rReceiving objects:  19% (223/1171)   \rReceiving objects:  20% (235/1171)   \rReceiving objects:  21% (246/1171)   \rReceiving objects:  22% (258/1171)   \rReceiving objects:  23% (270/1171)   \rReceiving objects:  24% (282/1171)   \rReceiving objects:  25% (293/1171)   \rReceiving objects:  26% (305/1171)   \rReceiving objects:  27% (317/1171)   \rReceiving objects:  28% (328/1171)   \rReceiving objects:  29% (340/1171)   \rReceiving objects:  30% (352/1171)   \rReceiving objects:  31% (364/1171)   \rReceiving objects:  32% (375/1171)   \rReceiving objects:  33% (387/1171)   \rReceiving objects:  34% (399/1171)   \rReceiving objects:  35% (410/1171)   \rReceiving objects:  36% (422/1171)   \rReceiving objects:  37% (434/1171)   \rReceiving objects:  38% (445/1171)   \rReceiving objects:  39% (457/1171)   \rReceiving objects:  40% (469/1171)   \rReceiving objects:  41% (481/1171)   \rReceiving objects:  42% (492/1171)   \rReceiving objects:  43% (504/1171)   \rReceiving objects:  44% (516/1171)   \rReceiving objects:  45% (527/1171)   \rReceiving objects:  46% (539/1171)   \rReceiving objects:  47% (551/1171)   \rReceiving objects:  48% (563/1171)   \rReceiving objects:  49% (574/1171)   \rReceiving objects:  50% (586/1171)   \rReceiving objects:  51% (598/1171)   \rReceiving objects:  52% (609/1171)   \rReceiving objects:  53% (621/1171)   \rReceiving objects:  54% (633/1171)   \rReceiving objects:  55% (645/1171)   \rReceiving objects:  56% (656/1171)   \rReceiving objects:  57% (668/1171)   \rReceiving objects:  58% (680/1171)   \rReceiving objects:  59% (691/1171)   \rReceiving objects:  60% (703/1171)   \rReceiving objects:  61% (715/1171)   \rReceiving objects:  62% (727/1171)   \rReceiving objects:  63% (738/1171)   \rReceiving objects:  64% (750/1171)   \rReceiving objects:  65% (762/1171)   \rReceiving objects:  66% (773/1171)   \rReceiving objects:  67% (785/1171)   \rReceiving objects:  68% (797/1171)   \rReceiving objects:  69% (808/1171)   \rReceiving objects:  70% (820/1171)   \rReceiving objects:  71% (832/1171)   \rReceiving objects:  72% (844/1171)   \rReceiving objects:  73% (855/1171)   \rReceiving objects:  74% (867/1171)   \rReceiving objects:  75% (879/1171)   \rReceiving objects:  76% (890/1171)   \rReceiving objects:  77% (902/1171)   \rReceiving objects:  78% (914/1171)   \rReceiving objects:  79% (926/1171)   \rremote: Total 1171 (delta 1), reused 4 (delta 0), pack-reused 1164\u001b[K\n",
            "Receiving objects:  80% (937/1171)   \rReceiving objects:  81% (949/1171)   \rReceiving objects:  82% (961/1171)   \rReceiving objects:  83% (972/1171)   \rReceiving objects:  84% (984/1171)   \rReceiving objects:  85% (996/1171)   \rReceiving objects:  86% (1008/1171)   \rReceiving objects:  87% (1019/1171)   \rReceiving objects:  88% (1031/1171)   \rReceiving objects:  89% (1043/1171)   \rReceiving objects:  90% (1054/1171)   \rReceiving objects:  91% (1066/1171)   \rReceiving objects:  92% (1078/1171)   \rReceiving objects:  93% (1090/1171)   \rReceiving objects:  94% (1101/1171)   \rReceiving objects:  95% (1113/1171)   \rReceiving objects:  96% (1125/1171)   \rReceiving objects:  97% (1136/1171)   \rReceiving objects:  98% (1148/1171)   \rReceiving objects:  99% (1160/1171)   \rReceiving objects: 100% (1171/1171)   \rReceiving objects: 100% (1171/1171), 2.00 MiB | 21.13 MiB/s, done.\n",
            "Resolving deltas:   0% (0/708)   \rResolving deltas:   1% (8/708)   \rResolving deltas:   2% (19/708)   \rResolving deltas:   3% (27/708)   \rResolving deltas:   7% (51/708)   \rResolving deltas:   8% (62/708)   \rResolving deltas:   9% (67/708)   \rResolving deltas:  10% (72/708)   \rResolving deltas:  12% (91/708)   \rResolving deltas:  13% (94/708)   \rResolving deltas:  17% (122/708)   \rResolving deltas:  18% (130/708)   \rResolving deltas:  19% (137/708)   \rResolving deltas:  20% (144/708)   \rResolving deltas:  22% (156/708)   \rResolving deltas:  26% (187/708)   \rResolving deltas:  29% (208/708)   \rResolving deltas:  41% (296/708)   \rResolving deltas:  42% (301/708)   \rResolving deltas:  43% (307/708)   \rResolving deltas:  44% (315/708)   \rResolving deltas:  45% (320/708)   \rResolving deltas:  52% (369/708)   \rResolving deltas:  59% (423/708)   \rResolving deltas:  60% (429/708)   \rResolving deltas:  61% (432/708)   \rResolving deltas:  62% (442/708)   \rResolving deltas:  63% (448/708)   \rResolving deltas:  65% (465/708)   \rResolving deltas:  66% (468/708)   \rResolving deltas:  67% (478/708)   \rResolving deltas:  74% (530/708)   \rResolving deltas:  77% (549/708)   \rResolving deltas:  79% (562/708)   \rResolving deltas:  80% (570/708)   \rResolving deltas:  84% (595/708)   \rResolving deltas:  85% (604/708)   \rResolving deltas:  86% (611/708)   \rResolving deltas:  90% (638/708)   \rResolving deltas:  91% (649/708)   \rResolving deltas:  92% (652/708)   \rResolving deltas:  94% (672/708)   \rResolving deltas:  95% (675/708)   \rResolving deltas:  97% (692/708)   \rResolving deltas:  98% (697/708)   \rResolving deltas: 100% (708/708)   \rResolving deltas: 100% (708/708), done.\n",
            "/content/hyperopt-sklearn\n",
            "Obtaining file:///content/hyperopt-sklearn\n",
            "Requirement already satisfied: hyperopt in /usr/local/lib/python3.6/dist-packages (from hpsklearn==0.0.3) (0.1.2)\n",
            "Requirement already satisfied: nose in /usr/local/lib/python3.6/dist-packages (from hpsklearn==0.0.3) (1.3.7)\n",
            "Requirement already satisfied: numpy in /usr/local/lib/python3.6/dist-packages (from hpsklearn==0.0.3) (1.16.3)\n",
            "Requirement already satisfied: scikit-learn in /usr/local/lib/python3.6/dist-packages (from hpsklearn==0.0.3) (0.20.3)\n",
            "Requirement already satisfied: scipy in /usr/local/lib/python3.6/dist-packages (from hpsklearn==0.0.3) (1.2.1)\n",
            "Requirement already satisfied: tqdm in /usr/local/lib/python3.6/dist-packages (from hyperopt->hpsklearn==0.0.3) (4.28.1)\n",
            "Requirement already satisfied: six in /usr/local/lib/python3.6/dist-packages (from hyperopt->hpsklearn==0.0.3) (1.12.0)\n",
            "Requirement already satisfied: networkx in /usr/local/lib/python3.6/dist-packages (from hyperopt->hpsklearn==0.0.3) (2.3)\n",
            "Requirement already satisfied: pymongo in /usr/local/lib/python3.6/dist-packages (from hyperopt->hpsklearn==0.0.3) (3.8.0)\n",
            "Requirement already satisfied: future in /usr/local/lib/python3.6/dist-packages (from hyperopt->hpsklearn==0.0.3) (0.16.0)\n",
            "Requirement already satisfied: decorator>=4.3.0 in /usr/local/lib/python3.6/dist-packages (from networkx->hyperopt->hpsklearn==0.0.3) (4.4.0)\n",
            "Installing collected packages: hpsklearn\n",
            "  Running setup.py develop for hpsklearn\n",
            "Successfully installed hpsklearn\n"
          ],
          "name": "stdout"
        }
      ]
    },
    {
      "cell_type": "code",
      "metadata": {
        "id": "M-9j_qPWolyb",
        "colab_type": "code",
        "outputId": "481c3491-9670-4830-b582-6319826c93e4",
        "colab": {
          "base_uri": "https://localhost:8080/",
          "height": 51
        }
      },
      "source": [
        "from hpsklearn import HyperoptEstimator, any_sparse_classifier, any_classifier\n",
        "from hyperopt import tpe"
      ],
      "execution_count": 37,
      "outputs": [
        {
          "output_type": "stream",
          "text": [
            "WARN: OMP_NUM_THREADS=None =>\n",
            "... If you are using openblas if you are using openblas set OMP_NUM_THREADS=1 or risk subprocess calls hanging indefinitely\n"
          ],
          "name": "stdout"
        }
      ]
    },
    {
      "cell_type": "markdown",
      "metadata": {
        "id": "mh2Hady7f4Wl",
        "colab_type": "text"
      },
      "source": [
        "## Сustom loss"
      ]
    },
    {
      "cell_type": "code",
      "metadata": {
        "id": "Mc2BTds0bwu-",
        "colab_type": "code",
        "colab": {}
      },
      "source": [
        "def calc_fnr_fpr(y_target, y_prediction):\n",
        "  fp = 0\n",
        "  fn = 0\n",
        "  n = len(y_target)\n",
        "  for i in range(n):\n",
        "    if y_prediction[i] == 1 and y_target[i] == 0:\n",
        "      fp += 1\n",
        "    if y_prediction[i] == 0 and y_target[i] == 1:\n",
        "      fn += 1\n",
        "  return (fn / n, fp / n) "
      ],
      "execution_count": 0,
      "outputs": []
    },
    {
      "cell_type": "code",
      "metadata": {
        "id": "RoeNibZZUjWI",
        "colab_type": "code",
        "colab": {}
      },
      "source": [
        "def custom_loss(y_target, y_prediction):\n",
        "  k_fn = 1\n",
        "  k_fp = 10\n",
        "  n = len(y_target)\n",
        "  (fnr, fpr) = calc_fnr_fpr(y_target, y_prediction)\n",
        "  return k_fn * fnr + k_fp * fpr"
      ],
      "execution_count": 0,
      "outputs": []
    },
    {
      "cell_type": "code",
      "metadata": {
        "id": "dl1lbF9vZ63J",
        "colab_type": "code",
        "colab": {}
      },
      "source": [
        "def hyperopt_custom_loss_estimator(X_train, y_train, sparse=True):\n",
        "  classifier = any_sparse_classifier('clf') if sparse else any_classifier('clf')\n",
        "  estim = HyperoptEstimator(classifier=classifier,\n",
        "                          preprocessing=[],\n",
        "                          algo=tpe.suggest, \n",
        "                          trial_timeout=300,\n",
        "                          loss_fn=custom_loss,\n",
        "                          seed=23)\n",
        "  estim.fit(X_train, y_train)\n",
        "  return estim"
      ],
      "execution_count": 0,
      "outputs": []
    },
    {
      "cell_type": "markdown",
      "metadata": {
        "id": "gc5sI_mSf_SY",
        "colab_type": "text"
      },
      "source": [
        "## Custom loss bow"
      ]
    },
    {
      "cell_type": "code",
      "metadata": {
        "id": "DGcvcNoAdIXC",
        "colab_type": "code",
        "outputId": "ade2d198-1fee-4085-8160-0ebb948eb071",
        "colab": {
          "base_uri": "https://localhost:8080/",
          "height": 187
        }
      },
      "source": [
        "estim = hyperopt_custom_loss_estimator(X_train, y_train)"
      ],
      "execution_count": 41,
      "outputs": [
        {
          "output_type": "stream",
          "text": [
            "100%|██████████| 1/1 [01:11<00:00, 71.63s/it, best loss: 1.7004297114794351]\n",
            "100%|██████████| 1/1 [00:00<00:00,  1.97it/s, best loss: 1.7004297114794351]\n",
            "100%|██████████| 1/1 [00:00<00:00, 11.16it/s, best loss: 1.4223449969306323]\n",
            "100%|██████████| 1/1 [00:00<00:00,  2.29it/s, best loss: 1.4223449969306323]\n",
            "100%|██████████| 1/1 [00:04<00:00,  4.28s/it, best loss: 1.4223449969306323]\n",
            "100%|██████████| 1/1 [01:10<00:00, 70.41s/it, best loss: 1.4223449969306323]\n",
            "100%|██████████| 1/1 [00:00<00:00,  5.65it/s, best loss: 1.4223449969306323]\n",
            "100%|██████████| 1/1 [00:00<00:00, 14.73it/s, best loss: 1.4223449969306323]\n",
            "100%|██████████| 1/1 [00:00<00:00,  3.43it/s, best loss: 1.4223449969306323]\n",
            "100%|██████████| 1/1 [00:00<00:00, 15.16it/s, best loss: 1.4223449969306323]\n"
          ],
          "name": "stdout"
        }
      ]
    },
    {
      "cell_type": "code",
      "metadata": {
        "id": "WRNxsNU79_9w",
        "colab_type": "code",
        "colab": {}
      },
      "source": [
        "y_pred = estim.predict(X_test)"
      ],
      "execution_count": 0,
      "outputs": []
    },
    {
      "cell_type": "code",
      "metadata": {
        "id": "Ah1fMDLH97_6",
        "colab_type": "code",
        "colab": {
          "base_uri": "https://localhost:8080/",
          "height": 34
        },
        "outputId": "de8ad619-0b2f-4185-9c82-e1af11cf4420"
      },
      "source": [
        "calc_fnr_fpr(y_test, y_pred)"
      ],
      "execution_count": 43,
      "outputs": [
        {
          "output_type": "execute_result",
          "data": {
            "text/plain": [
              "(0.1285451197053407, 0.1406998158379374)"
            ]
          },
          "metadata": {
            "tags": []
          },
          "execution_count": 43
        }
      ]
    },
    {
      "cell_type": "code",
      "metadata": {
        "id": "NiQw6N9x-BhB",
        "colab_type": "code",
        "colab": {
          "base_uri": "https://localhost:8080/",
          "height": 204
        },
        "outputId": "7c6957e4-bb5c-49ab-9995-f12f7cdc3278"
      },
      "source": [
        "printMetrics(y_test, y_pred)"
      ],
      "execution_count": 46,
      "outputs": [
        {
          "output_type": "stream",
          "text": [
            "accuracy: \n",
            "0.7307550644567219\n",
            "\n",
            "precision: \n",
            "0.730225988700565\n",
            "\n",
            "recall: \n",
            "0.74765003615329\n",
            "\n",
            "roc auc: \n",
            "0.7304316246832515\n"
          ],
          "name": "stdout"
        }
      ]
    },
    {
      "cell_type": "code",
      "metadata": {
        "id": "KexPm_aOsom3",
        "colab_type": "code",
        "outputId": "c5112089-8d3c-453b-b815-35a395987e90",
        "colab": {
          "base_uri": "https://localhost:8080/",
          "height": 187
        }
      },
      "source": [
        "estim.best_model()"
      ],
      "execution_count": 47,
      "outputs": [
        {
          "output_type": "execute_result",
          "data": {
            "text/plain": [
              "{'ex_preprocs': (),\n",
              " 'learner': SGDClassifier(alpha=0.06118428364662971, average=False, class_weight=None,\n",
              "        early_stopping=False, epsilon=0.1, eta0=0.0003970052556398526,\n",
              "        fit_intercept=True, l1_ratio=0.5022724095962902,\n",
              "        learning_rate='constant', loss='log', max_iter=158684350.0,\n",
              "        n_iter=None, n_iter_no_change=5, n_jobs=1, penalty='l2',\n",
              "        power_t=0.907051629874976, random_state=0, shuffle=True,\n",
              "        tol=0.006308140398304822, validation_fraction=0.1, verbose=False,\n",
              "        warm_start=False),\n",
              " 'preprocs': ()}"
            ]
          },
          "metadata": {
            "tags": []
          },
          "execution_count": 47
        }
      ]
    },
    {
      "cell_type": "markdown",
      "metadata": {
        "id": "GxsBu2hF68Ps",
        "colab_type": "text"
      },
      "source": [
        "## code2vec"
      ]
    },
    {
      "cell_type": "code",
      "metadata": {
        "id": "1SzghHhF6_Yc",
        "colab_type": "code",
        "colab": {}
      },
      "source": [
        "df1 = pd.read_csv(\"/content/gdrive/My Drive/code-clones/csv/lwjgl3_code2vec_vectors1.csv\")\n",
        "df2 = pd.read_csv(\"/content/gdrive/My Drive/code-clones/csv/lwjgl3_code2vec_vectors2.csv\")\n",
        "df3 = pd.read_csv(\"/content/gdrive/My Drive/code-clones/csv/lwjgl_code2vec_vectors.csv\")\n",
        "df4 = pd.read_csv(\"/content/gdrive/My Drive/code-clones/csv/spring_code2vec_vectors.csv\")\n",
        "df5 = pd.read_csv(\"/content/gdrive/My Drive/code-clones/csv/jenkins_code2vec_vectors.csv\")\n",
        "df6 = pd.read_csv(\"/content/gdrive/My Drive/code-clones/csv/rxjava_code2vec_vectors.csv\")\n",
        "df_c2v = pd.concat([df1, df2, df3, df4, df5, df6], axis=0)"
      ],
      "execution_count": 0,
      "outputs": []
    },
    {
      "cell_type": "code",
      "metadata": {
        "id": "3eaI3BuZ7eEC",
        "colab_type": "code",
        "outputId": "35e8a02c-55e7-466a-9c66-7bea37d85986",
        "colab": {
          "base_uri": "https://localhost:8080/",
          "height": 233
        }
      },
      "source": [
        "df_c2v.head()"
      ],
      "execution_count": 49,
      "outputs": [
        {
          "output_type": "execute_result",
          "data": {
            "text/html": [
              "<div>\n",
              "<style scoped>\n",
              "    .dataframe tbody tr th:only-of-type {\n",
              "        vertical-align: middle;\n",
              "    }\n",
              "\n",
              "    .dataframe tbody tr th {\n",
              "        vertical-align: top;\n",
              "    }\n",
              "\n",
              "    .dataframe thead th {\n",
              "        text-align: right;\n",
              "    }\n",
              "</style>\n",
              "<table border=\"1\" class=\"dataframe\">\n",
              "  <thead>\n",
              "    <tr style=\"text-align: right;\">\n",
              "      <th></th>\n",
              "      <th>exp</th>\n",
              "      <th>1</th>\n",
              "      <th>2</th>\n",
              "      <th>3</th>\n",
              "      <th>4</th>\n",
              "      <th>5</th>\n",
              "      <th>6</th>\n",
              "      <th>7</th>\n",
              "      <th>8</th>\n",
              "      <th>9</th>\n",
              "      <th>...</th>\n",
              "      <th>375</th>\n",
              "      <th>376</th>\n",
              "      <th>377</th>\n",
              "      <th>378</th>\n",
              "      <th>379</th>\n",
              "      <th>380</th>\n",
              "      <th>381</th>\n",
              "      <th>382</th>\n",
              "      <th>383</th>\n",
              "      <th>384</th>\n",
              "    </tr>\n",
              "  </thead>\n",
              "  <tbody>\n",
              "    <tr>\n",
              "      <th>0</th>\n",
              "      <td>0.0</td>\n",
              "      <td>0.708866</td>\n",
              "      <td>-0.139283</td>\n",
              "      <td>0.790398</td>\n",
              "      <td>0.880303</td>\n",
              "      <td>0.291317</td>\n",
              "      <td>0.553174</td>\n",
              "      <td>0.823598</td>\n",
              "      <td>-0.693108</td>\n",
              "      <td>-0.379951</td>\n",
              "      <td>...</td>\n",
              "      <td>0.409421</td>\n",
              "      <td>-0.743124</td>\n",
              "      <td>-0.406415</td>\n",
              "      <td>0.348190</td>\n",
              "      <td>-0.722999</td>\n",
              "      <td>0.883331</td>\n",
              "      <td>0.975385</td>\n",
              "      <td>0.811376</td>\n",
              "      <td>0.529098</td>\n",
              "      <td>-0.580801</td>\n",
              "    </tr>\n",
              "    <tr>\n",
              "      <th>1</th>\n",
              "      <td>0.0</td>\n",
              "      <td>0.457570</td>\n",
              "      <td>0.465724</td>\n",
              "      <td>0.049870</td>\n",
              "      <td>0.329546</td>\n",
              "      <td>0.185015</td>\n",
              "      <td>-0.367061</td>\n",
              "      <td>0.646942</td>\n",
              "      <td>0.066054</td>\n",
              "      <td>-0.377213</td>\n",
              "      <td>...</td>\n",
              "      <td>0.422311</td>\n",
              "      <td>0.542749</td>\n",
              "      <td>0.726254</td>\n",
              "      <td>0.081205</td>\n",
              "      <td>-0.139942</td>\n",
              "      <td>-0.282454</td>\n",
              "      <td>0.584696</td>\n",
              "      <td>0.316820</td>\n",
              "      <td>0.038821</td>\n",
              "      <td>-0.080841</td>\n",
              "    </tr>\n",
              "    <tr>\n",
              "      <th>2</th>\n",
              "      <td>0.0</td>\n",
              "      <td>0.674882</td>\n",
              "      <td>-0.227605</td>\n",
              "      <td>-0.051460</td>\n",
              "      <td>0.322587</td>\n",
              "      <td>0.113033</td>\n",
              "      <td>-0.206298</td>\n",
              "      <td>0.618875</td>\n",
              "      <td>-0.831079</td>\n",
              "      <td>0.467831</td>\n",
              "      <td>...</td>\n",
              "      <td>0.380035</td>\n",
              "      <td>-0.358241</td>\n",
              "      <td>0.168523</td>\n",
              "      <td>-0.115633</td>\n",
              "      <td>0.013167</td>\n",
              "      <td>-0.600655</td>\n",
              "      <td>-0.152489</td>\n",
              "      <td>0.309746</td>\n",
              "      <td>0.104927</td>\n",
              "      <td>-0.338480</td>\n",
              "    </tr>\n",
              "    <tr>\n",
              "      <th>3</th>\n",
              "      <td>0.0</td>\n",
              "      <td>0.238518</td>\n",
              "      <td>0.239017</td>\n",
              "      <td>-0.329432</td>\n",
              "      <td>0.076081</td>\n",
              "      <td>0.674525</td>\n",
              "      <td>0.240891</td>\n",
              "      <td>-0.138851</td>\n",
              "      <td>0.377708</td>\n",
              "      <td>-0.052835</td>\n",
              "      <td>...</td>\n",
              "      <td>-0.629672</td>\n",
              "      <td>-0.818671</td>\n",
              "      <td>-0.240460</td>\n",
              "      <td>0.834071</td>\n",
              "      <td>-0.167629</td>\n",
              "      <td>-0.331171</td>\n",
              "      <td>-0.589584</td>\n",
              "      <td>0.668989</td>\n",
              "      <td>0.260057</td>\n",
              "      <td>0.465806</td>\n",
              "    </tr>\n",
              "    <tr>\n",
              "      <th>4</th>\n",
              "      <td>0.0</td>\n",
              "      <td>-0.261068</td>\n",
              "      <td>-0.683279</td>\n",
              "      <td>-0.386828</td>\n",
              "      <td>0.031994</td>\n",
              "      <td>-0.891767</td>\n",
              "      <td>0.202983</td>\n",
              "      <td>-0.022529</td>\n",
              "      <td>0.667178</td>\n",
              "      <td>0.515003</td>\n",
              "      <td>...</td>\n",
              "      <td>-0.393192</td>\n",
              "      <td>0.125753</td>\n",
              "      <td>0.020193</td>\n",
              "      <td>0.403067</td>\n",
              "      <td>-0.779176</td>\n",
              "      <td>0.066885</td>\n",
              "      <td>0.953279</td>\n",
              "      <td>-0.108147</td>\n",
              "      <td>0.251376</td>\n",
              "      <td>-0.543750</td>\n",
              "    </tr>\n",
              "  </tbody>\n",
              "</table>\n",
              "<p>5 rows × 385 columns</p>\n",
              "</div>"
            ],
            "text/plain": [
              "   exp         1         2         3         4         5         6         7  \\\n",
              "0  0.0  0.708866 -0.139283  0.790398  0.880303  0.291317  0.553174  0.823598   \n",
              "1  0.0  0.457570  0.465724  0.049870  0.329546  0.185015 -0.367061  0.646942   \n",
              "2  0.0  0.674882 -0.227605 -0.051460  0.322587  0.113033 -0.206298  0.618875   \n",
              "3  0.0  0.238518  0.239017 -0.329432  0.076081  0.674525  0.240891 -0.138851   \n",
              "4  0.0 -0.261068 -0.683279 -0.386828  0.031994 -0.891767  0.202983 -0.022529   \n",
              "\n",
              "          8         9  ...       375       376       377       378       379  \\\n",
              "0 -0.693108 -0.379951  ...  0.409421 -0.743124 -0.406415  0.348190 -0.722999   \n",
              "1  0.066054 -0.377213  ...  0.422311  0.542749  0.726254  0.081205 -0.139942   \n",
              "2 -0.831079  0.467831  ...  0.380035 -0.358241  0.168523 -0.115633  0.013167   \n",
              "3  0.377708 -0.052835  ... -0.629672 -0.818671 -0.240460  0.834071 -0.167629   \n",
              "4  0.667178  0.515003  ... -0.393192  0.125753  0.020193  0.403067 -0.779176   \n",
              "\n",
              "        380       381       382       383       384  \n",
              "0  0.883331  0.975385  0.811376  0.529098 -0.580801  \n",
              "1 -0.282454  0.584696  0.316820  0.038821 -0.080841  \n",
              "2 -0.600655 -0.152489  0.309746  0.104927 -0.338480  \n",
              "3 -0.331171 -0.589584  0.668989  0.260057  0.465806  \n",
              "4  0.066885  0.953279 -0.108147  0.251376 -0.543750  \n",
              "\n",
              "[5 rows x 385 columns]"
            ]
          },
          "metadata": {
            "tags": []
          },
          "execution_count": 49
        }
      ]
    },
    {
      "cell_type": "code",
      "metadata": {
        "id": "l7XJrokKgKm6",
        "colab_type": "code",
        "colab": {}
      },
      "source": [
        "y = df_c2v['exp']\n",
        "X = df_c2v.drop('exp', 1)\n",
        "X_resampled, y_resampled = resample(X, y)\n",
        "#print(sorted(Counter(y_resampled.T).items()))\n",
        "X_train, X_test, y_train, y_test = train_test_split(X_resampled, y_resampled, random_state=23)"
      ],
      "execution_count": 0,
      "outputs": []
    },
    {
      "cell_type": "markdown",
      "metadata": {
        "id": "hSnjd00ngR6N",
        "colab_type": "text"
      },
      "source": [
        "## Custom loss code2vec"
      ]
    },
    {
      "cell_type": "code",
      "metadata": {
        "id": "sQlB6Y8wgRoi",
        "colab_type": "code",
        "outputId": "03cffe31-e8e8-4120-83bf-f07ee00d985b",
        "colab": {
          "base_uri": "https://localhost:8080/",
          "height": 187
        }
      },
      "source": [
        "estim = hyperopt_custom_loss_estimator(X_train, y_train, sparse=False)"
      ],
      "execution_count": 51,
      "outputs": [
        {
          "output_type": "stream",
          "text": [
            "100%|██████████| 1/1 [00:13<00:00, 13.03s/it, best loss: 2.9465317919075145]\n",
            "100%|██████████| 1/1 [00:10<00:00, 10.89s/it, best loss: 2.79335260115607]\n",
            "100%|██████████| 1/1 [00:18<00:00, 18.33s/it, best loss: 2.79335260115607]\n",
            "100%|██████████| 1/1 [01:14<00:00, 74.28s/it, best loss: 2.79335260115607]\n",
            "100%|██████████| 1/1 [00:12<00:00, 12.56s/it, best loss: 2.0209537572254335]\n",
            "100%|██████████| 1/1 [00:15<00:00, 15.61s/it, best loss: 2.0209537572254335]\n",
            "100%|██████████| 1/1 [00:00<00:00,  2.04it/s, best loss: 1.9342485549132948]\n",
            "100%|██████████| 1/1 [01:35<00:00, 95.21s/it, best loss: 1.9342485549132948]\n",
            "100%|██████████| 1/1 [00:01<00:00,  1.44s/it, best loss: 1.8229768786127167]\n",
            "100%|██████████| 1/1 [00:03<00:00,  3.91s/it, best loss: 1.8229768786127167]\n"
          ],
          "name": "stdout"
        }
      ]
    },
    {
      "cell_type": "code",
      "metadata": {
        "id": "g0eoZoCmLy2R",
        "colab_type": "code",
        "colab": {}
      },
      "source": [
        "y_pred = estim.predict(X_test)"
      ],
      "execution_count": 0,
      "outputs": []
    },
    {
      "cell_type": "code",
      "metadata": {
        "id": "KLp8_fzeL16J",
        "colab_type": "code",
        "colab": {
          "base_uri": "https://localhost:8080/",
          "height": 34
        },
        "outputId": "b414d2c5-7aca-4f52-df0f-1e57d1f0de55"
      },
      "source": [
        "calc_fnr_fpr(y_test, y_pred)"
      ],
      "execution_count": 53,
      "outputs": [
        {
          "output_type": "execute_result",
          "data": {
            "text/plain": [
              "(0.07368877329865627, 0.19592544429995665)"
            ]
          },
          "metadata": {
            "tags": []
          },
          "execution_count": 53
        }
      ]
    },
    {
      "cell_type": "code",
      "metadata": {
        "id": "a4XDrmHjL58U",
        "colab_type": "code",
        "colab": {
          "base_uri": "https://localhost:8080/",
          "height": 204
        },
        "outputId": "c817811b-549a-424b-ceee-06e5bc6bc558"
      },
      "source": [
        "printMetrics(y_test, y_pred)"
      ],
      "execution_count": 54,
      "outputs": [
        {
          "output_type": "stream",
          "text": [
            "accuracy: \n",
            "0.7303857824013871\n",
            "\n",
            "precision: \n",
            "0.6861111111111111\n",
            "\n",
            "recall: \n",
            "0.853195164075993\n",
            "\n",
            "roc auc: \n",
            "0.7299048057107556\n"
          ],
          "name": "stdout"
        }
      ]
    },
    {
      "cell_type": "code",
      "metadata": {
        "id": "Fw60AcKvCiKX",
        "colab_type": "code",
        "outputId": "8e0764df-165d-415f-d0eb-5be84080db87",
        "colab": {
          "base_uri": "https://localhost:8080/",
          "height": 204
        }
      },
      "source": [
        "estim.best_model()"
      ],
      "execution_count": 55,
      "outputs": [
        {
          "output_type": "execute_result",
          "data": {
            "text/plain": [
              "{'ex_preprocs': (),\n",
              " 'learner': GradientBoostingClassifier(criterion='friedman_mse', init=None,\n",
              "               learning_rate=0.005891891362147046, loss='deviance',\n",
              "               max_depth=None, max_features='log2', max_leaf_nodes=None,\n",
              "               min_impurity_decrease=0.0, min_impurity_split=None,\n",
              "               min_samples_leaf=8, min_samples_split=2,\n",
              "               min_weight_fraction_leaf=0.0, n_estimators=16,\n",
              "               n_iter_no_change=None, presort='auto', random_state=0,\n",
              "               subsample=1.0, tol=0.0001, validation_fraction=0.1,\n",
              "               verbose=0, warm_start=False),\n",
              " 'preprocs': ()}"
            ]
          },
          "metadata": {
            "tags": []
          },
          "execution_count": 55
        }
      ]
    }
  ]
}