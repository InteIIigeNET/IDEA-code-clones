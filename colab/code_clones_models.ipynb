{
  "nbformat": 4,
  "nbformat_minor": 0,
  "metadata": {
    "colab": {
      "name": "code-clones-models.ipynb",
      "version": "0.3.2",
      "provenance": [],
      "collapsed_sections": [],
      "include_colab_link": true
    },
    "kernelspec": {
      "display_name": "Python 3",
      "language": "python",
      "name": "python3"
    }
  },
  "cells": [
    {
      "cell_type": "markdown",
      "metadata": {
        "id": "view-in-github",
        "colab_type": "text"
      },
      "source": [
        "<a href=\"https://colab.research.google.com/github/MaxVortman/IDEA-code-clones/blob/master/colab/code_clones_models.ipynb\" target=\"_parent\"><img src=\"https://colab.research.google.com/assets/colab-badge.svg\" alt=\"Open In Colab\"/></a>"
      ]
    },
    {
      "cell_type": "code",
      "metadata": {
        "id": "cvH-jD_u_Z8k",
        "colab_type": "code",
        "colab": {}
      },
      "source": [
        "import pandas as pd\n",
        "import numpy as np\n",
        "from collections import Counter\n",
        "from imblearn.under_sampling import RandomUnderSampler\n",
        "from sklearn.model_selection import train_test_split\n",
        "from sklearn.linear_model import LogisticRegression\n",
        "from sklearn.model_selection import GridSearchCV\n",
        "from scipy import sparse\n",
        "from sklearn.decomposition import TruncatedSVD\n",
        "\n",
        "import warnings\n",
        "warnings.filterwarnings('ignore')"
      ],
      "execution_count": 0,
      "outputs": []
    },
    {
      "cell_type": "code",
      "metadata": {
        "id": "AfwM70LzEj_2",
        "colab_type": "code",
        "colab": {}
      },
      "source": [
        "def resample(X, y):\n",
        "  rus = RandomUnderSampler(random_state=23)\n",
        "  return rus.fit_resample(X, y)"
      ],
      "execution_count": 0,
      "outputs": []
    },
    {
      "cell_type": "markdown",
      "metadata": {
        "id": "-X403mTc63eU",
        "colab_type": "text"
      },
      "source": [
        "## Bag of words"
      ]
    },
    {
      "cell_type": "code",
      "metadata": {
        "id": "lxmxQciRAbkN",
        "colab_type": "code",
        "outputId": "e44879c7-05e7-422f-ee4b-40ba00269513",
        "colab": {
          "base_uri": "https://localhost:8080/",
          "height": 122
        }
      },
      "source": [
        "from google.colab import drive\n",
        "drive.mount('/content/gdrive')"
      ],
      "execution_count": 3,
      "outputs": [
        {
          "output_type": "stream",
          "text": [
            "Go to this URL in a browser: https://accounts.google.com/o/oauth2/auth?client_id=947318989803-6bn6qk8qdgf4n4g3pfee6491hc0brc4i.apps.googleusercontent.com&redirect_uri=urn%3Aietf%3Awg%3Aoauth%3A2.0%3Aoob&scope=email%20https%3A%2F%2Fwww.googleapis.com%2Fauth%2Fdocs.test%20https%3A%2F%2Fwww.googleapis.com%2Fauth%2Fdrive%20https%3A%2F%2Fwww.googleapis.com%2Fauth%2Fdrive.photos.readonly%20https%3A%2F%2Fwww.googleapis.com%2Fauth%2Fpeopleapi.readonly&response_type=code\n",
            "\n",
            "Enter your authorization code:\n",
            "··········\n",
            "Mounted at /content/gdrive\n"
          ],
          "name": "stdout"
        }
      ]
    },
    {
      "cell_type": "code",
      "metadata": {
        "id": "w-gVboOC-Ygz",
        "colab_type": "code",
        "colab": {
          "base_uri": "https://localhost:8080/",
          "height": 34
        },
        "outputId": "a9ea6417-8a97-4dca-ba7a-f00fc09fab76"
      },
      "source": [
        "!ls "
      ],
      "execution_count": 5,
      "outputs": [
        {
          "output_type": "stream",
          "text": [
            "gdrive\tsample_data\n"
          ],
          "name": "stdout"
        }
      ]
    },
    {
      "cell_type": "code",
      "metadata": {
        "id": "E-V1_jxGeEk2",
        "colab_type": "code",
        "colab": {
          "base_uri": "https://localhost:8080/",
          "height": 34
        },
        "outputId": "be83fcb2-8859-45ca-ab6d-583deae526e4"
      },
      "source": [
        "%cd ./gdrive/My Drive/code-clones"
      ],
      "execution_count": 6,
      "outputs": [
        {
          "output_type": "stream",
          "text": [
            "/content/gdrive/My Drive/code-clones\n"
          ],
          "name": "stdout"
        }
      ]
    },
    {
      "cell_type": "code",
      "metadata": {
        "id": "Ui4qUHn7ePfS",
        "colab_type": "code",
        "colab": {}
      },
      "source": [
        "import metrics"
      ],
      "execution_count": 0,
      "outputs": []
    },
    {
      "cell_type": "code",
      "metadata": {
        "id": "rVOfxVy2_Z8x",
        "colab_type": "code",
        "colab": {}
      },
      "source": [
        "sparse_bow_X = sparse.load_npz(\"csv/bagofwords_vectors_X.npz\")\n",
        "sparse_bow_y = sparse.load_npz(\"csv/bagofwords_vectors_y.npz\").T"
      ],
      "execution_count": 0,
      "outputs": []
    },
    {
      "cell_type": "code",
      "metadata": {
        "id": "vzl2Yt5CeSsY",
        "colab_type": "code",
        "colab": {
          "base_uri": "https://localhost:8080/",
          "height": 34
        },
        "outputId": "ebeda9d0-e8ec-44b8-e211-a895523c3461"
      },
      "source": [
        "%cd / "
      ],
      "execution_count": 10,
      "outputs": [
        {
          "output_type": "stream",
          "text": [
            "/\n"
          ],
          "name": "stdout"
        }
      ]
    },
    {
      "cell_type": "code",
      "metadata": {
        "id": "3YnUcesCfFym",
        "colab_type": "code",
        "outputId": "4e6b3148-b2da-41fd-bab0-2bcb13088d53",
        "colab": {
          "base_uri": "https://localhost:8080/",
          "height": 34
        }
      },
      "source": [
        "sparse_bow_y.shape"
      ],
      "execution_count": 11,
      "outputs": [
        {
          "output_type": "execute_result",
          "data": {
            "text/plain": [
              "(19990, 1)"
            ]
          },
          "metadata": {
            "tags": []
          },
          "execution_count": 11
        }
      ]
    },
    {
      "cell_type": "code",
      "metadata": {
        "id": "kIdMIIrYf6Db",
        "colab_type": "code",
        "outputId": "ff48c075-b236-40db-d4fb-3dafed1000e3",
        "colab": {
          "base_uri": "https://localhost:8080/",
          "height": 34
        }
      },
      "source": [
        "sparse_bow_X.shape"
      ],
      "execution_count": 12,
      "outputs": [
        {
          "output_type": "execute_result",
          "data": {
            "text/plain": [
              "(19990, 52736)"
            ]
          },
          "metadata": {
            "tags": []
          },
          "execution_count": 12
        }
      ]
    },
    {
      "cell_type": "code",
      "metadata": {
        "id": "EIhpsRnuQQJz",
        "colab_type": "code",
        "colab": {}
      },
      "source": [
        "X_resampled, y_resampled = resample(sparse_bow_X, sparse_bow_y.toarray())\n",
        "#print(sorted(Counter(y_resampled.T).items()))\n",
        "X_train, X_test, y_train, y_test = train_test_split(X_resampled, y_resampled, random_state=23)"
      ],
      "execution_count": 0,
      "outputs": []
    },
    {
      "cell_type": "code",
      "metadata": {
        "id": "z5zY9EsYoZwX",
        "colab_type": "code",
        "outputId": "60c752ca-c0d8-49e9-df6c-7a3147b2a641",
        "colab": {
          "base_uri": "https://localhost:8080/",
          "height": 408
        }
      },
      "source": [
        "!git clone https://github.com/hyperopt/hyperopt-sklearn\n",
        "%cd hyperopt-sklearn\n",
        "!pip install -e ."
      ],
      "execution_count": 0,
      "outputs": [
        {
          "output_type": "stream",
          "text": [
            "Cloning into 'hyperopt-sklearn'...\n",
            "remote: Enumerating objects: 7, done.\u001b[K\n",
            "remote: Counting objects:  14% (1/7)   \u001b[K\rremote: Counting objects:  28% (2/7)   \u001b[K\rremote: Counting objects:  42% (3/7)   \u001b[K\rremote: Counting objects:  57% (4/7)   \u001b[K\rremote: Counting objects:  71% (5/7)   \u001b[K\rremote: Counting objects:  85% (6/7)   \u001b[K\rremote: Counting objects: 100% (7/7)   \u001b[K\rremote: Counting objects: 100% (7/7), done.\u001b[K\n",
            "remote: Compressing objects: 100% (7/7), done.\u001b[K\n",
            "remote: Total 1171 (delta 1), reused 4 (delta 0), pack-reused 1164\u001b[K\n",
            "Receiving objects: 100% (1171/1171), 2.00 MiB | 5.65 MiB/s, done.\n",
            "Resolving deltas: 100% (708/708), done.\n",
            "/content/hyperopt-sklearn\n",
            "Obtaining file:///content/hyperopt-sklearn\n",
            "Requirement already satisfied: hyperopt in /usr/local/lib/python3.6/dist-packages (from hpsklearn==0.0.3) (0.1.2)\n",
            "Requirement already satisfied: nose in /usr/local/lib/python3.6/dist-packages (from hpsklearn==0.0.3) (1.3.7)\n",
            "Requirement already satisfied: numpy in /usr/local/lib/python3.6/dist-packages (from hpsklearn==0.0.3) (1.16.3)\n",
            "Requirement already satisfied: scikit-learn in /usr/local/lib/python3.6/dist-packages (from hpsklearn==0.0.3) (0.20.3)\n",
            "Requirement already satisfied: scipy in /usr/local/lib/python3.6/dist-packages (from hpsklearn==0.0.3) (1.2.1)\n",
            "Requirement already satisfied: six in /usr/local/lib/python3.6/dist-packages (from hyperopt->hpsklearn==0.0.3) (1.12.0)\n",
            "Requirement already satisfied: pymongo in /usr/local/lib/python3.6/dist-packages (from hyperopt->hpsklearn==0.0.3) (3.8.0)\n",
            "Requirement already satisfied: networkx in /usr/local/lib/python3.6/dist-packages (from hyperopt->hpsklearn==0.0.3) (2.3)\n",
            "Requirement already satisfied: tqdm in /usr/local/lib/python3.6/dist-packages (from hyperopt->hpsklearn==0.0.3) (4.28.1)\n",
            "Requirement already satisfied: future in /usr/local/lib/python3.6/dist-packages (from hyperopt->hpsklearn==0.0.3) (0.16.0)\n",
            "Requirement already satisfied: decorator>=4.3.0 in /usr/local/lib/python3.6/dist-packages (from networkx->hyperopt->hpsklearn==0.0.3) (4.4.0)\n",
            "Installing collected packages: hpsklearn\n",
            "  Running setup.py develop for hpsklearn\n",
            "Successfully installed hpsklearn\n"
          ],
          "name": "stdout"
        }
      ]
    },
    {
      "cell_type": "code",
      "metadata": {
        "id": "M-9j_qPWolyb",
        "colab_type": "code",
        "outputId": "905aef8f-8c14-4bbe-c83b-f408dc99ae4a",
        "colab": {
          "base_uri": "https://localhost:8080/",
          "height": 51
        }
      },
      "source": [
        "from hpsklearn import HyperoptEstimator, any_sparse_classifier, any_classifier\n",
        "from hyperopt import tpe"
      ],
      "execution_count": 0,
      "outputs": [
        {
          "output_type": "stream",
          "text": [
            "WARN: OMP_NUM_THREADS=None =>\n",
            "... If you are using openblas if you are using openblas set OMP_NUM_THREADS=1 or risk subprocess calls hanging indefinitely\n"
          ],
          "name": "stdout"
        }
      ]
    },
    {
      "cell_type": "markdown",
      "metadata": {
        "id": "mh2Hady7f4Wl",
        "colab_type": "text"
      },
      "source": [
        "## Сustom loss"
      ]
    },
    {
      "cell_type": "code",
      "metadata": {
        "id": "RoeNibZZUjWI",
        "colab_type": "code",
        "colab": {}
      },
      "source": [
        "def custom_loss(y_target, y_prediction):\n",
        "  k_fn = 1\n",
        "  k_fp = 10\n",
        "  n = len(y_target)\n",
        "  (fnr, fpr) = metrics.calc_fnr_fpr(y_target, y_prediction)\n",
        "  return k_fn * fnr + k_fp * fpr"
      ],
      "execution_count": 0,
      "outputs": []
    },
    {
      "cell_type": "code",
      "metadata": {
        "id": "dl1lbF9vZ63J",
        "colab_type": "code",
        "colab": {}
      },
      "source": [
        "def hyperopt_custom_loss_estimator(X_train, y_train, sparse=True):\n",
        "  classifier = any_sparse_classifier('clf') if sparse else any_classifier('clf')\n",
        "  estim = HyperoptEstimator(classifier=classifier,\n",
        "                          preprocessing=[],\n",
        "                          algo=tpe.suggest, \n",
        "                          trial_timeout=300,\n",
        "                          loss_fn=custom_loss,\n",
        "                          seed=23)\n",
        "  estim.fit(X_train, y_train)\n",
        "  return estim"
      ],
      "execution_count": 0,
      "outputs": []
    },
    {
      "cell_type": "markdown",
      "metadata": {
        "id": "gc5sI_mSf_SY",
        "colab_type": "text"
      },
      "source": [
        "## Custom loss bow"
      ]
    },
    {
      "cell_type": "code",
      "metadata": {
        "id": "DGcvcNoAdIXC",
        "colab_type": "code",
        "outputId": "01e3a3f5-47b4-4c67-c5de-ab055a6a52dd",
        "colab": {
          "base_uri": "https://localhost:8080/",
          "height": 187
        }
      },
      "source": [
        "estim = hyperopt_custom_loss_estimator(X_train, y_train)"
      ],
      "execution_count": 0,
      "outputs": [
        {
          "output_type": "stream",
          "text": [
            "100%|██████████| 1/1 [01:13<00:00, 73.53s/it, best loss: 1.7004297114794351]\n",
            "100%|██████████| 1/1 [00:00<00:00,  2.01it/s, best loss: 1.7004297114794351]\n",
            "100%|██████████| 1/1 [00:00<00:00, 12.64it/s, best loss: 1.4223449969306323]\n",
            "100%|██████████| 1/1 [00:00<00:00,  2.46it/s, best loss: 1.4223449969306323]\n",
            "100%|██████████| 1/1 [00:04<00:00,  4.27s/it, best loss: 1.4223449969306323]\n",
            "100%|██████████| 1/1 [01:12<00:00, 72.37s/it, best loss: 1.4223449969306323]\n",
            "100%|██████████| 1/1 [00:00<00:00, 16.27it/s, best loss: 1.4223449969306323]\n",
            "100%|██████████| 1/1 [00:00<00:00, 15.72it/s, best loss: 1.4223449969306323]\n",
            "100%|██████████| 1/1 [00:00<00:00,  3.66it/s, best loss: 1.4223449969306323]\n",
            "100%|██████████| 1/1 [00:00<00:00, 16.02it/s, best loss: 1.4223449969306323]\n"
          ],
          "name": "stdout"
        }
      ]
    },
    {
      "cell_type": "code",
      "metadata": {
        "id": "WRNxsNU79_9w",
        "colab_type": "code",
        "colab": {}
      },
      "source": [
        "y_pred = estim.predict(X_test)"
      ],
      "execution_count": 0,
      "outputs": []
    },
    {
      "cell_type": "code",
      "metadata": {
        "id": "Ah1fMDLH97_6",
        "colab_type": "code",
        "outputId": "b273d4ae-193b-4a87-fb5a-4c99ca02d24a",
        "colab": {
          "base_uri": "https://localhost:8080/",
          "height": 34
        }
      },
      "source": [
        "metrics.print_fnr_fpr(y_test, y_pred)"
      ],
      "execution_count": 0,
      "outputs": [
        {
          "output_type": "execute_result",
          "data": {
            "text/plain": [
              "(0.1285451197053407, 0.1406998158379374)"
            ]
          },
          "metadata": {
            "tags": []
          },
          "execution_count": 16
        }
      ]
    },
    {
      "cell_type": "code",
      "metadata": {
        "id": "NiQw6N9x-BhB",
        "colab_type": "code",
        "outputId": "3bce42f5-2b64-4068-a6e2-15d5a9958c2c",
        "colab": {
          "base_uri": "https://localhost:8080/",
          "height": 153
        }
      },
      "source": [
        "metrics.print_metrics(y_test, y_pred)"
      ],
      "execution_count": 0,
      "outputs": [
        {
          "output_type": "stream",
          "text": [
            "accuracy: \n",
            "0.7307550644567219\n",
            "\n",
            "precision: \n",
            "0.730225988700565\n",
            "\n",
            "recall: \n",
            "0.74765003615329\n"
          ],
          "name": "stdout"
        }
      ]
    },
    {
      "cell_type": "code",
      "metadata": {
        "id": "KexPm_aOsom3",
        "colab_type": "code",
        "outputId": "0ca02628-6055-4e01-ee82-c228908115d3",
        "colab": {
          "base_uri": "https://localhost:8080/",
          "height": 187
        }
      },
      "source": [
        "estim.best_model()"
      ],
      "execution_count": 0,
      "outputs": [
        {
          "output_type": "execute_result",
          "data": {
            "text/plain": [
              "{'ex_preprocs': (),\n",
              " 'learner': SGDClassifier(alpha=0.06118428364662971, average=False, class_weight=None,\n",
              "        early_stopping=False, epsilon=0.1, eta0=0.0003970052556398526,\n",
              "        fit_intercept=True, l1_ratio=0.5022724095962902,\n",
              "        learning_rate='constant', loss='log', max_iter=158684350.0,\n",
              "        n_iter=None, n_iter_no_change=5, n_jobs=1, penalty='l2',\n",
              "        power_t=0.907051629874976, random_state=0, shuffle=True,\n",
              "        tol=0.006308140398304822, validation_fraction=0.1, verbose=False,\n",
              "        warm_start=False),\n",
              " 'preprocs': ()}"
            ]
          },
          "metadata": {
            "tags": []
          },
          "execution_count": 18
        }
      ]
    },
    {
      "cell_type": "code",
      "metadata": {
        "id": "E0SpZmVTD1Ow",
        "colab_type": "code",
        "colab": {}
      },
      "source": [
        "thr = 0.5\n",
        "y_prob = [y[1] for y in estim.best_model()['learner'].predict_proba(X_test)]\n",
        "y_pred = [int(y >= thr) for y in y_prob]\n",
        "_, fpr = metrics.calc_fnr_fpr(y_test, y_pred)\n",
        "while fpr - 0.10 >= 0.005:\n",
        "  thr += 0.0005\n",
        "  y_pred = [int(y >= thr) for y in y_prob]\n",
        "  _, fpr = metrics.calc_fnr_fpr(y_test, y_pred)"
      ],
      "execution_count": 0,
      "outputs": []
    },
    {
      "cell_type": "code",
      "metadata": {
        "id": "f0lmuDeyEKIu",
        "colab_type": "code",
        "outputId": "d5a1b1a9-e8dc-46b6-e2aa-fd9bc1f6e523",
        "colab": {
          "base_uri": "https://localhost:8080/",
          "height": 34
        }
      },
      "source": [
        "thr"
      ],
      "execution_count": 0,
      "outputs": [
        {
          "output_type": "execute_result",
          "data": {
            "text/plain": [
              "0.5199999999999978"
            ]
          },
          "metadata": {
            "tags": []
          },
          "execution_count": 20
        }
      ]
    },
    {
      "cell_type": "code",
      "metadata": {
        "id": "YYWxi3w3mbe6",
        "colab_type": "code",
        "outputId": "875227a8-63e4-450e-c1cb-b5ff39cbc8af",
        "colab": {
          "base_uri": "https://localhost:8080/",
          "height": 68
        }
      },
      "source": [
        "metrics.print_all_metrics(y_test, y_prob)"
      ],
      "execution_count": 0,
      "outputs": [
        {
          "output_type": "stream",
          "text": [
            "\n",
            "roc auc: \n",
            "0.8202815071036329\n"
          ],
          "name": "stdout"
        }
      ]
    },
    {
      "cell_type": "markdown",
      "metadata": {
        "id": "v49eoZF2B0F-",
        "colab_type": "text"
      },
      "source": [
        "## Custom loss svd bow"
      ]
    },
    {
      "cell_type": "code",
      "metadata": {
        "id": "4j34z3r--snN",
        "colab_type": "code",
        "colab": {
          "base_uri": "https://localhost:8080/",
          "height": 34
        },
        "outputId": "239e69ac-2803-4815-e1b8-35b5f6bfeec8"
      },
      "source": [
        "svd = TruncatedSVD(n_components=100, random_state=23)\n",
        "X = svd.fit_transform(sparse_bow_X)\n",
        "X.shape"
      ],
      "execution_count": 19,
      "outputs": [
        {
          "output_type": "execute_result",
          "data": {
            "text/plain": [
              "(19990, 100)"
            ]
          },
          "metadata": {
            "tags": []
          },
          "execution_count": 19
        }
      ]
    },
    {
      "cell_type": "code",
      "metadata": {
        "id": "N-xmfIvyCFpd",
        "colab_type": "code",
        "colab": {}
      },
      "source": [
        "X_resampled, y_resampled = resample(X, sparse_bow_y.toarray())\n",
        "#print(sorted(Counter(y_resampled.T).items()))\n",
        "X_train, X_test, y_train, y_test = train_test_split(X_resampled, y_resampled, random_state=23)"
      ],
      "execution_count": 0,
      "outputs": []
    },
    {
      "cell_type": "code",
      "metadata": {
        "id": "tXbcU4aWCJUT",
        "colab_type": "code",
        "colab": {}
      },
      "source": [
        "estim = hyperopt_custom_loss_estimator(X_train, y_train)"
      ],
      "execution_count": 0,
      "outputs": []
    },
    {
      "cell_type": "code",
      "metadata": {
        "id": "IoeX490uCVPh",
        "colab_type": "code",
        "colab": {}
      },
      "source": [
        "y_pred = estim.predict(X_test)\n",
        "metrics.print_fnr_fpr(y_test, y_pred)\n",
        "metrics.print_metrics(y_test, y_pred)"
      ],
      "execution_count": 0,
      "outputs": []
    },
    {
      "cell_type": "code",
      "metadata": {
        "id": "C-P6FabPCewJ",
        "colab_type": "code",
        "colab": {}
      },
      "source": [
        "estim.best_model()"
      ],
      "execution_count": 0,
      "outputs": []
    },
    {
      "cell_type": "code",
      "metadata": {
        "id": "Dg_DhUECClfp",
        "colab_type": "code",
        "colab": {}
      },
      "source": [
        "thr = 0.5\n",
        "y_prob = [y[1] for y in estim.best_model()['learner'].predict_proba(X_test)]\n",
        "y_pred = [int(y >= thr) for y in y_prob]\n",
        "_, fpr = metrics.calc_fnr_fpr(y_test, y_pred)\n",
        "while fpr - 0.10 >= 0.005:\n",
        "  thr += 0.0005\n",
        "  y_pred = [int(y >= thr) for y in y_prob]\n",
        "  _, fpr = metrics.calc_fnr_fpr(y_test, y_pred)"
      ],
      "execution_count": 0,
      "outputs": []
    },
    {
      "cell_type": "code",
      "metadata": {
        "id": "C74IPi4VCoFx",
        "colab_type": "code",
        "colab": {}
      },
      "source": [
        "thr"
      ],
      "execution_count": 0,
      "outputs": []
    },
    {
      "cell_type": "code",
      "metadata": {
        "id": "HzoDBgrYCqOb",
        "colab_type": "code",
        "colab": {}
      },
      "source": [
        "metrics.print_all_metrics(y_test, y_prob)"
      ],
      "execution_count": 0,
      "outputs": []
    },
    {
      "cell_type": "markdown",
      "metadata": {
        "id": "GxsBu2hF68Ps",
        "colab_type": "text"
      },
      "source": [
        "## code2vec"
      ]
    },
    {
      "cell_type": "code",
      "metadata": {
        "id": "1SzghHhF6_Yc",
        "colab_type": "code",
        "colab": {}
      },
      "source": [
        "df1 = pd.read_csv(\"/content/gdrive/My Drive/code-clones/csv/lwjgl3_code2vec_vectors1.csv\")\n",
        "df2 = pd.read_csv(\"/content/gdrive/My Drive/code-clones/csv/lwjgl3_code2vec_vectors2.csv\")\n",
        "df3 = pd.read_csv(\"/content/gdrive/My Drive/code-clones/csv/lwjgl_code2vec_vectors.csv\")\n",
        "df4 = pd.read_csv(\"/content/gdrive/My Drive/code-clones/csv/spring_code2vec_vectors.csv\")\n",
        "df5 = pd.read_csv(\"/content/gdrive/My Drive/code-clones/csv/jenkins_code2vec_vectors.csv\")\n",
        "df6 = pd.read_csv(\"/content/gdrive/My Drive/code-clones/csv/rxjava_code2vec_vectors.csv\")\n",
        "df_c2v = pd.concat([df1, df2, df3, df4, df5, df6], axis=0)"
      ],
      "execution_count": 0,
      "outputs": []
    },
    {
      "cell_type": "code",
      "metadata": {
        "id": "3eaI3BuZ7eEC",
        "colab_type": "code",
        "outputId": "e9d05e33-0369-4d84-b756-3fcce4548830",
        "colab": {
          "base_uri": "https://localhost:8080/",
          "height": 253
        }
      },
      "source": [
        "df_c2v.head()"
      ],
      "execution_count": 0,
      "outputs": [
        {
          "output_type": "execute_result",
          "data": {
            "text/html": [
              "<div>\n",
              "<style scoped>\n",
              "    .dataframe tbody tr th:only-of-type {\n",
              "        vertical-align: middle;\n",
              "    }\n",
              "\n",
              "    .dataframe tbody tr th {\n",
              "        vertical-align: top;\n",
              "    }\n",
              "\n",
              "    .dataframe thead th {\n",
              "        text-align: right;\n",
              "    }\n",
              "</style>\n",
              "<table border=\"1\" class=\"dataframe\">\n",
              "  <thead>\n",
              "    <tr style=\"text-align: right;\">\n",
              "      <th></th>\n",
              "      <th>exp</th>\n",
              "      <th>1</th>\n",
              "      <th>2</th>\n",
              "      <th>3</th>\n",
              "      <th>4</th>\n",
              "      <th>5</th>\n",
              "      <th>6</th>\n",
              "      <th>7</th>\n",
              "      <th>8</th>\n",
              "      <th>9</th>\n",
              "      <th>10</th>\n",
              "      <th>11</th>\n",
              "      <th>12</th>\n",
              "      <th>13</th>\n",
              "      <th>14</th>\n",
              "      <th>15</th>\n",
              "      <th>16</th>\n",
              "      <th>17</th>\n",
              "      <th>18</th>\n",
              "      <th>19</th>\n",
              "      <th>20</th>\n",
              "      <th>21</th>\n",
              "      <th>22</th>\n",
              "      <th>23</th>\n",
              "      <th>24</th>\n",
              "      <th>25</th>\n",
              "      <th>26</th>\n",
              "      <th>27</th>\n",
              "      <th>28</th>\n",
              "      <th>29</th>\n",
              "      <th>30</th>\n",
              "      <th>31</th>\n",
              "      <th>32</th>\n",
              "      <th>33</th>\n",
              "      <th>34</th>\n",
              "      <th>35</th>\n",
              "      <th>36</th>\n",
              "      <th>37</th>\n",
              "      <th>38</th>\n",
              "      <th>39</th>\n",
              "      <th>...</th>\n",
              "      <th>345</th>\n",
              "      <th>346</th>\n",
              "      <th>347</th>\n",
              "      <th>348</th>\n",
              "      <th>349</th>\n",
              "      <th>350</th>\n",
              "      <th>351</th>\n",
              "      <th>352</th>\n",
              "      <th>353</th>\n",
              "      <th>354</th>\n",
              "      <th>355</th>\n",
              "      <th>356</th>\n",
              "      <th>357</th>\n",
              "      <th>358</th>\n",
              "      <th>359</th>\n",
              "      <th>360</th>\n",
              "      <th>361</th>\n",
              "      <th>362</th>\n",
              "      <th>363</th>\n",
              "      <th>364</th>\n",
              "      <th>365</th>\n",
              "      <th>366</th>\n",
              "      <th>367</th>\n",
              "      <th>368</th>\n",
              "      <th>369</th>\n",
              "      <th>370</th>\n",
              "      <th>371</th>\n",
              "      <th>372</th>\n",
              "      <th>373</th>\n",
              "      <th>374</th>\n",
              "      <th>375</th>\n",
              "      <th>376</th>\n",
              "      <th>377</th>\n",
              "      <th>378</th>\n",
              "      <th>379</th>\n",
              "      <th>380</th>\n",
              "      <th>381</th>\n",
              "      <th>382</th>\n",
              "      <th>383</th>\n",
              "      <th>384</th>\n",
              "    </tr>\n",
              "  </thead>\n",
              "  <tbody>\n",
              "    <tr>\n",
              "      <th>0</th>\n",
              "      <td>0.0</td>\n",
              "      <td>0.708866</td>\n",
              "      <td>-0.139283</td>\n",
              "      <td>0.790398</td>\n",
              "      <td>0.880303</td>\n",
              "      <td>0.291317</td>\n",
              "      <td>0.553174</td>\n",
              "      <td>0.823598</td>\n",
              "      <td>-0.693108</td>\n",
              "      <td>-0.379951</td>\n",
              "      <td>-0.536196</td>\n",
              "      <td>-0.057756</td>\n",
              "      <td>-0.763562</td>\n",
              "      <td>-0.781960</td>\n",
              "      <td>-0.448249</td>\n",
              "      <td>-0.533357</td>\n",
              "      <td>-0.451522</td>\n",
              "      <td>-0.065547</td>\n",
              "      <td>0.545325</td>\n",
              "      <td>0.905961</td>\n",
              "      <td>0.846379</td>\n",
              "      <td>0.947172</td>\n",
              "      <td>-0.874068</td>\n",
              "      <td>0.936903</td>\n",
              "      <td>-0.440319</td>\n",
              "      <td>0.009643</td>\n",
              "      <td>-0.558544</td>\n",
              "      <td>0.288042</td>\n",
              "      <td>-0.060373</td>\n",
              "      <td>0.068816</td>\n",
              "      <td>-0.541809</td>\n",
              "      <td>-0.713808</td>\n",
              "      <td>0.880594</td>\n",
              "      <td>-0.628212</td>\n",
              "      <td>-0.872760</td>\n",
              "      <td>0.714413</td>\n",
              "      <td>-0.542334</td>\n",
              "      <td>0.740742</td>\n",
              "      <td>-0.198978</td>\n",
              "      <td>-0.450086</td>\n",
              "      <td>...</td>\n",
              "      <td>0.075166</td>\n",
              "      <td>-0.686472</td>\n",
              "      <td>0.770341</td>\n",
              "      <td>0.886230</td>\n",
              "      <td>0.070973</td>\n",
              "      <td>0.990748</td>\n",
              "      <td>0.556059</td>\n",
              "      <td>-0.979709</td>\n",
              "      <td>0.716640</td>\n",
              "      <td>-0.159755</td>\n",
              "      <td>-0.584313</td>\n",
              "      <td>0.863680</td>\n",
              "      <td>-0.305081</td>\n",
              "      <td>0.005122</td>\n",
              "      <td>0.208050</td>\n",
              "      <td>-0.919549</td>\n",
              "      <td>0.481194</td>\n",
              "      <td>-0.905497</td>\n",
              "      <td>0.054141</td>\n",
              "      <td>0.132897</td>\n",
              "      <td>-0.831053</td>\n",
              "      <td>0.891648</td>\n",
              "      <td>0.524972</td>\n",
              "      <td>-0.797217</td>\n",
              "      <td>0.006505</td>\n",
              "      <td>-0.805470</td>\n",
              "      <td>0.439665</td>\n",
              "      <td>-0.932609</td>\n",
              "      <td>-0.972230</td>\n",
              "      <td>0.444506</td>\n",
              "      <td>0.409421</td>\n",
              "      <td>-0.743124</td>\n",
              "      <td>-0.406415</td>\n",
              "      <td>0.348190</td>\n",
              "      <td>-0.722999</td>\n",
              "      <td>0.883331</td>\n",
              "      <td>0.975385</td>\n",
              "      <td>0.811376</td>\n",
              "      <td>0.529098</td>\n",
              "      <td>-0.580801</td>\n",
              "    </tr>\n",
              "    <tr>\n",
              "      <th>1</th>\n",
              "      <td>0.0</td>\n",
              "      <td>0.457570</td>\n",
              "      <td>0.465724</td>\n",
              "      <td>0.049870</td>\n",
              "      <td>0.329546</td>\n",
              "      <td>0.185015</td>\n",
              "      <td>-0.367061</td>\n",
              "      <td>0.646942</td>\n",
              "      <td>0.066054</td>\n",
              "      <td>-0.377213</td>\n",
              "      <td>0.211417</td>\n",
              "      <td>-0.618707</td>\n",
              "      <td>0.051697</td>\n",
              "      <td>-0.098210</td>\n",
              "      <td>0.367054</td>\n",
              "      <td>-0.714161</td>\n",
              "      <td>-0.273630</td>\n",
              "      <td>0.390221</td>\n",
              "      <td>0.230662</td>\n",
              "      <td>0.526845</td>\n",
              "      <td>-0.471009</td>\n",
              "      <td>-0.086963</td>\n",
              "      <td>0.647146</td>\n",
              "      <td>-0.149217</td>\n",
              "      <td>0.850062</td>\n",
              "      <td>0.063569</td>\n",
              "      <td>-0.201275</td>\n",
              "      <td>-0.523791</td>\n",
              "      <td>0.217598</td>\n",
              "      <td>0.393475</td>\n",
              "      <td>-0.242300</td>\n",
              "      <td>0.048727</td>\n",
              "      <td>0.385479</td>\n",
              "      <td>-0.608135</td>\n",
              "      <td>-0.076953</td>\n",
              "      <td>0.053418</td>\n",
              "      <td>0.257176</td>\n",
              "      <td>-0.541758</td>\n",
              "      <td>-0.838411</td>\n",
              "      <td>0.164181</td>\n",
              "      <td>...</td>\n",
              "      <td>0.243302</td>\n",
              "      <td>-0.210837</td>\n",
              "      <td>-0.267095</td>\n",
              "      <td>-0.873269</td>\n",
              "      <td>-0.082603</td>\n",
              "      <td>-0.095414</td>\n",
              "      <td>-0.132618</td>\n",
              "      <td>-0.470093</td>\n",
              "      <td>-0.649802</td>\n",
              "      <td>0.424356</td>\n",
              "      <td>0.059514</td>\n",
              "      <td>-0.261998</td>\n",
              "      <td>-0.033176</td>\n",
              "      <td>0.049180</td>\n",
              "      <td>0.144208</td>\n",
              "      <td>0.056680</td>\n",
              "      <td>0.152013</td>\n",
              "      <td>-0.175859</td>\n",
              "      <td>-0.114169</td>\n",
              "      <td>0.529386</td>\n",
              "      <td>0.405167</td>\n",
              "      <td>0.616029</td>\n",
              "      <td>-0.260005</td>\n",
              "      <td>-0.537304</td>\n",
              "      <td>0.111804</td>\n",
              "      <td>0.100389</td>\n",
              "      <td>0.545154</td>\n",
              "      <td>-0.169261</td>\n",
              "      <td>0.353477</td>\n",
              "      <td>0.224362</td>\n",
              "      <td>0.422311</td>\n",
              "      <td>0.542749</td>\n",
              "      <td>0.726254</td>\n",
              "      <td>0.081205</td>\n",
              "      <td>-0.139942</td>\n",
              "      <td>-0.282454</td>\n",
              "      <td>0.584696</td>\n",
              "      <td>0.316820</td>\n",
              "      <td>0.038821</td>\n",
              "      <td>-0.080841</td>\n",
              "    </tr>\n",
              "    <tr>\n",
              "      <th>2</th>\n",
              "      <td>0.0</td>\n",
              "      <td>0.674882</td>\n",
              "      <td>-0.227605</td>\n",
              "      <td>-0.051460</td>\n",
              "      <td>0.322587</td>\n",
              "      <td>0.113033</td>\n",
              "      <td>-0.206298</td>\n",
              "      <td>0.618875</td>\n",
              "      <td>-0.831079</td>\n",
              "      <td>0.467831</td>\n",
              "      <td>0.223961</td>\n",
              "      <td>-0.474329</td>\n",
              "      <td>-0.135923</td>\n",
              "      <td>0.431246</td>\n",
              "      <td>-0.218008</td>\n",
              "      <td>-0.649191</td>\n",
              "      <td>0.012374</td>\n",
              "      <td>0.336949</td>\n",
              "      <td>0.886156</td>\n",
              "      <td>0.454673</td>\n",
              "      <td>-0.639669</td>\n",
              "      <td>0.443773</td>\n",
              "      <td>0.031497</td>\n",
              "      <td>0.345675</td>\n",
              "      <td>0.482762</td>\n",
              "      <td>-0.693035</td>\n",
              "      <td>0.416126</td>\n",
              "      <td>-0.515968</td>\n",
              "      <td>0.172227</td>\n",
              "      <td>0.217237</td>\n",
              "      <td>-0.311850</td>\n",
              "      <td>-0.614717</td>\n",
              "      <td>0.240569</td>\n",
              "      <td>-0.554820</td>\n",
              "      <td>-0.054012</td>\n",
              "      <td>-0.354445</td>\n",
              "      <td>-0.449013</td>\n",
              "      <td>-0.176670</td>\n",
              "      <td>-0.092752</td>\n",
              "      <td>-0.221199</td>\n",
              "      <td>...</td>\n",
              "      <td>-0.175787</td>\n",
              "      <td>-0.184850</td>\n",
              "      <td>-0.531791</td>\n",
              "      <td>-0.455446</td>\n",
              "      <td>-0.020367</td>\n",
              "      <td>0.270404</td>\n",
              "      <td>0.041985</td>\n",
              "      <td>-0.550160</td>\n",
              "      <td>0.767969</td>\n",
              "      <td>0.171719</td>\n",
              "      <td>-0.247429</td>\n",
              "      <td>-0.261586</td>\n",
              "      <td>-0.072140</td>\n",
              "      <td>-0.336018</td>\n",
              "      <td>-0.227835</td>\n",
              "      <td>-0.287362</td>\n",
              "      <td>-0.423872</td>\n",
              "      <td>-0.743692</td>\n",
              "      <td>0.063031</td>\n",
              "      <td>0.646673</td>\n",
              "      <td>-0.507511</td>\n",
              "      <td>0.666606</td>\n",
              "      <td>-0.274423</td>\n",
              "      <td>0.246878</td>\n",
              "      <td>-0.009419</td>\n",
              "      <td>-0.132733</td>\n",
              "      <td>0.432687</td>\n",
              "      <td>0.648385</td>\n",
              "      <td>0.087229</td>\n",
              "      <td>-0.328465</td>\n",
              "      <td>0.380035</td>\n",
              "      <td>-0.358241</td>\n",
              "      <td>0.168523</td>\n",
              "      <td>-0.115633</td>\n",
              "      <td>0.013167</td>\n",
              "      <td>-0.600655</td>\n",
              "      <td>-0.152489</td>\n",
              "      <td>0.309746</td>\n",
              "      <td>0.104927</td>\n",
              "      <td>-0.338480</td>\n",
              "    </tr>\n",
              "    <tr>\n",
              "      <th>3</th>\n",
              "      <td>0.0</td>\n",
              "      <td>0.238518</td>\n",
              "      <td>0.239017</td>\n",
              "      <td>-0.329432</td>\n",
              "      <td>0.076081</td>\n",
              "      <td>0.674525</td>\n",
              "      <td>0.240891</td>\n",
              "      <td>-0.138851</td>\n",
              "      <td>0.377708</td>\n",
              "      <td>-0.052835</td>\n",
              "      <td>0.758993</td>\n",
              "      <td>0.212176</td>\n",
              "      <td>0.319090</td>\n",
              "      <td>0.772388</td>\n",
              "      <td>-0.185795</td>\n",
              "      <td>0.141485</td>\n",
              "      <td>-0.263851</td>\n",
              "      <td>-0.114226</td>\n",
              "      <td>0.478966</td>\n",
              "      <td>-0.436920</td>\n",
              "      <td>-0.188591</td>\n",
              "      <td>-0.345383</td>\n",
              "      <td>0.206126</td>\n",
              "      <td>-0.520585</td>\n",
              "      <td>0.897969</td>\n",
              "      <td>0.783976</td>\n",
              "      <td>0.424795</td>\n",
              "      <td>0.498398</td>\n",
              "      <td>-0.557342</td>\n",
              "      <td>0.319309</td>\n",
              "      <td>-0.687786</td>\n",
              "      <td>0.658537</td>\n",
              "      <td>0.692565</td>\n",
              "      <td>0.063520</td>\n",
              "      <td>0.564135</td>\n",
              "      <td>0.445329</td>\n",
              "      <td>-0.448139</td>\n",
              "      <td>-0.636677</td>\n",
              "      <td>0.653752</td>\n",
              "      <td>-0.661554</td>\n",
              "      <td>...</td>\n",
              "      <td>0.373130</td>\n",
              "      <td>-0.401377</td>\n",
              "      <td>-0.644872</td>\n",
              "      <td>0.041106</td>\n",
              "      <td>0.609853</td>\n",
              "      <td>-0.099505</td>\n",
              "      <td>0.522919</td>\n",
              "      <td>-0.703145</td>\n",
              "      <td>0.073218</td>\n",
              "      <td>-0.380949</td>\n",
              "      <td>-0.728012</td>\n",
              "      <td>-0.726868</td>\n",
              "      <td>-0.303032</td>\n",
              "      <td>-0.133776</td>\n",
              "      <td>0.549605</td>\n",
              "      <td>-0.556467</td>\n",
              "      <td>0.017998</td>\n",
              "      <td>-0.530820</td>\n",
              "      <td>-0.106090</td>\n",
              "      <td>-0.760480</td>\n",
              "      <td>-0.038897</td>\n",
              "      <td>0.251707</td>\n",
              "      <td>0.725792</td>\n",
              "      <td>0.145969</td>\n",
              "      <td>0.424751</td>\n",
              "      <td>-0.584596</td>\n",
              "      <td>-0.767587</td>\n",
              "      <td>0.301838</td>\n",
              "      <td>0.746892</td>\n",
              "      <td>-0.455481</td>\n",
              "      <td>-0.629672</td>\n",
              "      <td>-0.818671</td>\n",
              "      <td>-0.240460</td>\n",
              "      <td>0.834071</td>\n",
              "      <td>-0.167629</td>\n",
              "      <td>-0.331171</td>\n",
              "      <td>-0.589584</td>\n",
              "      <td>0.668989</td>\n",
              "      <td>0.260057</td>\n",
              "      <td>0.465806</td>\n",
              "    </tr>\n",
              "    <tr>\n",
              "      <th>4</th>\n",
              "      <td>0.0</td>\n",
              "      <td>-0.261068</td>\n",
              "      <td>-0.683279</td>\n",
              "      <td>-0.386828</td>\n",
              "      <td>0.031994</td>\n",
              "      <td>-0.891767</td>\n",
              "      <td>0.202983</td>\n",
              "      <td>-0.022529</td>\n",
              "      <td>0.667178</td>\n",
              "      <td>0.515003</td>\n",
              "      <td>0.826141</td>\n",
              "      <td>-0.176847</td>\n",
              "      <td>-0.039715</td>\n",
              "      <td>-0.733276</td>\n",
              "      <td>0.443135</td>\n",
              "      <td>-0.023443</td>\n",
              "      <td>-0.327092</td>\n",
              "      <td>-0.362199</td>\n",
              "      <td>0.233987</td>\n",
              "      <td>0.319233</td>\n",
              "      <td>0.299280</td>\n",
              "      <td>-0.234696</td>\n",
              "      <td>0.303305</td>\n",
              "      <td>0.170403</td>\n",
              "      <td>-0.224727</td>\n",
              "      <td>0.483681</td>\n",
              "      <td>-0.372073</td>\n",
              "      <td>0.648301</td>\n",
              "      <td>-0.407349</td>\n",
              "      <td>-0.432478</td>\n",
              "      <td>0.606037</td>\n",
              "      <td>-0.137597</td>\n",
              "      <td>0.223075</td>\n",
              "      <td>0.147892</td>\n",
              "      <td>-0.423443</td>\n",
              "      <td>-0.441040</td>\n",
              "      <td>-0.332034</td>\n",
              "      <td>-0.342627</td>\n",
              "      <td>0.125737</td>\n",
              "      <td>-0.407850</td>\n",
              "      <td>...</td>\n",
              "      <td>-0.610979</td>\n",
              "      <td>-0.784399</td>\n",
              "      <td>0.278932</td>\n",
              "      <td>-0.380384</td>\n",
              "      <td>-0.457574</td>\n",
              "      <td>0.915914</td>\n",
              "      <td>0.290403</td>\n",
              "      <td>-0.275704</td>\n",
              "      <td>-0.058648</td>\n",
              "      <td>0.762267</td>\n",
              "      <td>-0.227620</td>\n",
              "      <td>0.422656</td>\n",
              "      <td>0.326875</td>\n",
              "      <td>-0.433874</td>\n",
              "      <td>0.615914</td>\n",
              "      <td>0.239106</td>\n",
              "      <td>-0.050791</td>\n",
              "      <td>-0.410500</td>\n",
              "      <td>-0.014974</td>\n",
              "      <td>0.270726</td>\n",
              "      <td>-0.353269</td>\n",
              "      <td>0.280647</td>\n",
              "      <td>-0.001562</td>\n",
              "      <td>0.455043</td>\n",
              "      <td>0.148662</td>\n",
              "      <td>0.320710</td>\n",
              "      <td>-0.886484</td>\n",
              "      <td>0.124052</td>\n",
              "      <td>0.072454</td>\n",
              "      <td>0.706325</td>\n",
              "      <td>-0.393192</td>\n",
              "      <td>0.125753</td>\n",
              "      <td>0.020193</td>\n",
              "      <td>0.403067</td>\n",
              "      <td>-0.779176</td>\n",
              "      <td>0.066885</td>\n",
              "      <td>0.953279</td>\n",
              "      <td>-0.108147</td>\n",
              "      <td>0.251376</td>\n",
              "      <td>-0.543750</td>\n",
              "    </tr>\n",
              "  </tbody>\n",
              "</table>\n",
              "<p>5 rows × 385 columns</p>\n",
              "</div>"
            ],
            "text/plain": [
              "   exp         1         2         3  ...       381       382       383       384\n",
              "0  0.0  0.708866 -0.139283  0.790398  ...  0.975385  0.811376  0.529098 -0.580801\n",
              "1  0.0  0.457570  0.465724  0.049870  ...  0.584696  0.316820  0.038821 -0.080841\n",
              "2  0.0  0.674882 -0.227605 -0.051460  ... -0.152489  0.309746  0.104927 -0.338480\n",
              "3  0.0  0.238518  0.239017 -0.329432  ... -0.589584  0.668989  0.260057  0.465806\n",
              "4  0.0 -0.261068 -0.683279 -0.386828  ...  0.953279 -0.108147  0.251376 -0.543750\n",
              "\n",
              "[5 rows x 385 columns]"
            ]
          },
          "metadata": {
            "tags": []
          },
          "execution_count": 25
        }
      ]
    },
    {
      "cell_type": "code",
      "metadata": {
        "id": "l7XJrokKgKm6",
        "colab_type": "code",
        "colab": {}
      },
      "source": [
        "y = df_c2v['exp']\n",
        "X = df_c2v.drop('exp', 1)\n",
        "X_resampled, y_resampled = resample(X, y)\n",
        "#print(sorted(Counter(y_resampled.T).items()))\n",
        "X_train, X_test, y_train, y_test = train_test_split(X_resampled, y_resampled, random_state=23)"
      ],
      "execution_count": 0,
      "outputs": []
    },
    {
      "cell_type": "markdown",
      "metadata": {
        "id": "hSnjd00ngR6N",
        "colab_type": "text"
      },
      "source": [
        "## Custom loss code2vec"
      ]
    },
    {
      "cell_type": "code",
      "metadata": {
        "id": "sQlB6Y8wgRoi",
        "colab_type": "code",
        "outputId": "b88f4ed5-c1c5-4b54-f453-5577762104e4",
        "colab": {
          "base_uri": "https://localhost:8080/",
          "height": 187
        }
      },
      "source": [
        "estim = hyperopt_custom_loss_estimator(X_train, y_train, sparse=False)"
      ],
      "execution_count": 0,
      "outputs": [
        {
          "output_type": "stream",
          "text": [
            "100%|██████████| 1/1 [00:13<00:00, 13.29s/it, best loss: 2.9465317919075145]\n",
            "100%|██████████| 1/1 [00:11<00:00, 11.02s/it, best loss: 2.79335260115607]\n",
            "100%|██████████| 1/1 [00:17<00:00, 17.93s/it, best loss: 2.79335260115607]\n",
            "100%|██████████| 1/1 [01:24<00:00, 84.13s/it, best loss: 2.79335260115607]\n",
            "100%|██████████| 1/1 [00:12<00:00, 12.57s/it, best loss: 2.0209537572254335]\n",
            "100%|██████████| 1/1 [00:15<00:00, 15.36s/it, best loss: 2.0209537572254335]\n",
            "100%|██████████| 1/1 [00:00<00:00,  1.98it/s, best loss: 1.9342485549132948]\n",
            "100%|██████████| 1/1 [01:37<00:00, 97.13s/it, best loss: 1.9342485549132948]\n",
            "100%|██████████| 1/1 [00:01<00:00,  1.46s/it, best loss: 1.8229768786127167]\n",
            "100%|██████████| 1/1 [00:04<00:00,  4.02s/it, best loss: 1.8229768786127167]\n"
          ],
          "name": "stdout"
        }
      ]
    },
    {
      "cell_type": "code",
      "metadata": {
        "id": "g0eoZoCmLy2R",
        "colab_type": "code",
        "colab": {}
      },
      "source": [
        "y_pred = estim.predict(X_test)"
      ],
      "execution_count": 0,
      "outputs": []
    },
    {
      "cell_type": "code",
      "metadata": {
        "id": "KLp8_fzeL16J",
        "colab_type": "code",
        "outputId": "f7aa6eaa-431a-4a94-8322-fd3fc1958e4b",
        "colab": {
          "base_uri": "https://localhost:8080/",
          "height": 34
        }
      },
      "source": [
        "metrics.print_fnr_fpr(y_test, y_pred)"
      ],
      "execution_count": 0,
      "outputs": [
        {
          "output_type": "execute_result",
          "data": {
            "text/plain": [
              "(0.07368877329865627, 0.19592544429995665)"
            ]
          },
          "metadata": {
            "tags": []
          },
          "execution_count": 29
        }
      ]
    },
    {
      "cell_type": "code",
      "metadata": {
        "id": "a4XDrmHjL58U",
        "colab_type": "code",
        "outputId": "e59eaea7-312b-4fe0-b613-22d519678e08",
        "colab": {
          "base_uri": "https://localhost:8080/",
          "height": 153
        }
      },
      "source": [
        "metrics.print_metrics(y_test, y_pred)"
      ],
      "execution_count": 0,
      "outputs": [
        {
          "output_type": "stream",
          "text": [
            "accuracy: \n",
            "0.7303857824013871\n",
            "\n",
            "precision: \n",
            "0.6861111111111111\n",
            "\n",
            "recall: \n",
            "0.853195164075993\n"
          ],
          "name": "stdout"
        }
      ]
    },
    {
      "cell_type": "code",
      "metadata": {
        "id": "Fw60AcKvCiKX",
        "colab_type": "code",
        "outputId": "f2abf8f3-8fdd-45e0-cb6e-b72a9574a9ab",
        "colab": {
          "base_uri": "https://localhost:8080/",
          "height": 204
        }
      },
      "source": [
        "estim.best_model()"
      ],
      "execution_count": 0,
      "outputs": [
        {
          "output_type": "execute_result",
          "data": {
            "text/plain": [
              "{'ex_preprocs': (),\n",
              " 'learner': GradientBoostingClassifier(criterion='friedman_mse', init=None,\n",
              "               learning_rate=0.005891891362147046, loss='deviance',\n",
              "               max_depth=None, max_features='log2', max_leaf_nodes=None,\n",
              "               min_impurity_decrease=0.0, min_impurity_split=None,\n",
              "               min_samples_leaf=8, min_samples_split=2,\n",
              "               min_weight_fraction_leaf=0.0, n_estimators=16,\n",
              "               n_iter_no_change=None, presort='auto', random_state=0,\n",
              "               subsample=1.0, tol=0.0001, validation_fraction=0.1,\n",
              "               verbose=0, warm_start=False),\n",
              " 'preprocs': ()}"
            ]
          },
          "metadata": {
            "tags": []
          },
          "execution_count": 31
        }
      ]
    },
    {
      "cell_type": "code",
      "metadata": {
        "id": "S2BqX-I-Ew83",
        "colab_type": "code",
        "colab": {}
      },
      "source": [
        "thr = 0.5\n",
        "y_prob = [y[1] for y in estim.best_model()['learner'].predict_proba(X_test)]\n",
        "y_pred = [int(y >= thr) for y in y_prob]\n",
        "_, fpr = metrics.calc_fnr_fpr(y_test, y_pred)\n",
        "while fpr - 0.10 >= 0.005:\n",
        "  thr += 0.0005\n",
        "  y_pred = [int(y >= thr) for y in y_prob]\n",
        "  _, fpr = metrics.calc_fnr_fpr(y_test, y_pred)"
      ],
      "execution_count": 0,
      "outputs": []
    },
    {
      "cell_type": "code",
      "metadata": {
        "id": "dXpyJiaJE1a2",
        "colab_type": "code",
        "outputId": "2969576a-4602-4d61-b911-fc106152934e",
        "colab": {
          "base_uri": "https://localhost:8080/",
          "height": 34
        }
      },
      "source": [
        "thr"
      ],
      "execution_count": 0,
      "outputs": [
        {
          "output_type": "execute_result",
          "data": {
            "text/plain": [
              "0.5084999999999991"
            ]
          },
          "metadata": {
            "tags": []
          },
          "execution_count": 33
        }
      ]
    },
    {
      "cell_type": "code",
      "metadata": {
        "id": "Y5OPcTdIE6nF",
        "colab_type": "code",
        "outputId": "ac09f5c5-8c4a-438e-a70b-0271bf61401f",
        "colab": {
          "base_uri": "https://localhost:8080/",
          "height": 68
        }
      },
      "source": [
        "metrics.print_all_metrics(y_test, y_prob)"
      ],
      "execution_count": 0,
      "outputs": [
        {
          "output_type": "stream",
          "text": [
            "\n",
            "roc auc: \n",
            "0.8261355147000243\n"
          ],
          "name": "stdout"
        }
      ]
    },
    {
      "cell_type": "code",
      "metadata": {
        "id": "LU7NHrfcm9YC",
        "colab_type": "code",
        "colab": {}
      },
      "source": [
        ""
      ],
      "execution_count": 0,
      "outputs": []
    }
  ]
}